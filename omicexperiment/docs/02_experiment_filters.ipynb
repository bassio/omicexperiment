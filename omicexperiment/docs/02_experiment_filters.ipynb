{
 "cells": [
  {
   "cell_type": "markdown",
   "metadata": {},
   "source": [
    "# Experiment objects filters - the rationale\n",
    "A syntactic sugar API is provided for various common filtering operations on\n",
    "the components of the experiment objects (for example the three dataframes of the MicrobiomeExperiment object).\n",
    "\n",
    "The rationale behind providing such syntactic sugar in the API is that working with three dataframes at the same time can be taxing, as it describes multidimensional data (and metadata!).\n",
    "\n",
    "Again, rapid analysis and economy in typing is the ultimate aspiration here, avoiding repetitive boilerplate, especially knowing that almost the same operations are required in particular downstream analyses in various typical omic experiments.\n",
    "\n",
    "This notebook/chapter will provide various examples (currently for MicrobiomeExperiment), and can be regarded as a cookbook for various operations performed in a microbial amplicon metabarcoding experiment."
   ]
  },
  {
   "cell_type": "code",
   "execution_count": 1,
   "metadata": {
    "collapsed": false
   },
   "outputs": [],
   "source": [
    "%load_ext autoreload\n",
    "%autoreload 2\n",
    "\n",
    "#Load our data\n",
    "from omicexperiment.experiment.microbiome import MicrobiomeExperiment\n",
    "\n",
    "mapping = \"example_map.tsv\"\n",
    "biom = \"example_fungal.biom\"\n",
    "tax = \"blast_tax_assignments.txt\"\n",
    "\n",
    "exp = MicrobiomeExperiment(biom, mapping,tax)"
   ]
  },
  {
   "cell_type": "markdown",
   "metadata": {},
   "source": [
    "# Experiment filters\n",
    "The basis of the filter functionality are two methods on the experiment objects.\n",
    "The first method is called 'filter'.\n",
    "The second method is called 'efilter' (short for \"experiment filter\").\n",
    "\n",
    "The *filter* method basically filters the data_df according to the parameters passed as we are going to explain below. It is important to remember that the data_df is our main dataframe (our contingency table or matrix) and therefore remember that the filter function only filters the data_df and not for example the mapping_df. The method then returns a new pandas DataFrame object (the new \"filtered\" or \"modified\" data_df).\n",
    "\n",
    "The *efilter* method provides the same functionality as filter.\n",
    "The only difference is that efilter follows the paradigm of providing a whole new experiment object, rather than just providing a stand-alone new _data_ DataFrame object. As explained before, this paradigm is helpful as it allows method chaining etc.\n",
    "\n",
    "## The filter subpackage\n",
    "From the filters subpackage, you can import the various filters:\n",
    "\n",
    "    from omicexperiment.transforms.filters import Sample\n",
    "    from omicexperiment.transforms.filters import Observation \n",
    "    from omicexperiment.transforms.filters import Taxonomy\n",
    "\n",
    "These \"filters\" are also provided on the MicrobiomeExperiment object, as shortcuts.\n",
    "\n",
    "    Taxonomy = exp.Taxonomy\n",
    "    #OR\n",
    "    from omicexperiment.transforms.filters import Taxonomy\n",
    "\n",
    "## What are filters?\n",
    "Filters are basically classes (can be objects/instances), that hold attributes that are subclasses of the _FilterExpression_ object.\n",
    "FilterExpressions can be considered fairly magical, as they utilize operator overloading in an attempt to provide a shorthand API with a sugary syntax for applying various operations on the experiment dataframe objects.\n",
    "\n",
    "The three filters \n",
    "* Taxonomy filter: apply various operations on the taxonomy\n",
    "* Sample filter: apply various operations on samples/sample metadata\n",
    "* Observation filter: apply various operations on observations (i.e. OTUs in a microbiome context)\n",
    "\n",
    "**The only way to get the gist of how these work is perhaps to view the code examples.**"
   ]
  },
  {
   "cell_type": "code",
   "execution_count": 2,
   "metadata": {
    "collapsed": false
   },
   "outputs": [
    {
     "data": {
      "text/html": [
       "<div>\n",
       "<table border=\"1\" class=\"dataframe\">\n",
       "  <thead>\n",
       "    <tr style=\"text-align: right;\">\n",
       "      <th></th>\n",
       "      <th>sample0</th>\n",
       "      <th>sample1</th>\n",
       "      <th>sample2</th>\n",
       "      <th>1234</th>\n",
       "      <th>9876</th>\n",
       "    </tr>\n",
       "  </thead>\n",
       "  <tbody>\n",
       "    <tr>\n",
       "      <th>2f328e48f4252bbade0dd7f66b0d5bf1b09617dd</th>\n",
       "      <td>0</td>\n",
       "      <td>2</td>\n",
       "      <td>0</td>\n",
       "      <td>0</td>\n",
       "      <td>225872</td>\n",
       "    </tr>\n",
       "    <tr>\n",
       "      <th>ae0ddda08027454fdb5db77c96b94691b8274cdd</th>\n",
       "      <td>0</td>\n",
       "      <td>91911</td>\n",
       "      <td>100428</td>\n",
       "      <td>2</td>\n",
       "      <td>1</td>\n",
       "    </tr>\n",
       "    <tr>\n",
       "      <th>8f52abc02aed2ce6c63be04570a7e609f9cdac5f</th>\n",
       "      <td>0</td>\n",
       "      <td>21</td>\n",
       "      <td>0</td>\n",
       "      <td>133138</td>\n",
       "      <td>0</td>\n",
       "    </tr>\n",
       "    <tr>\n",
       "      <th>3cb3c2347cdbe128b645e432f4dcbca702e0e8e3</th>\n",
       "      <td>0</td>\n",
       "      <td>0</td>\n",
       "      <td>0</td>\n",
       "      <td>0</td>\n",
       "      <td>0</td>\n",
       "    </tr>\n",
       "    <tr>\n",
       "      <th>8e9a3b9a9d91e86f21da1bd57b8ae4486c78bbe0</th>\n",
       "      <td>86870</td>\n",
       "      <td>0</td>\n",
       "      <td>0</td>\n",
       "      <td>0</td>\n",
       "      <td>0</td>\n",
       "    </tr>\n",
       "  </tbody>\n",
       "</table>\n",
       "</div>"
      ],
      "text/plain": [
       "                                          sample0  sample1  sample2    1234  \\\n",
       "2f328e48f4252bbade0dd7f66b0d5bf1b09617dd        0        2        0       0   \n",
       "ae0ddda08027454fdb5db77c96b94691b8274cdd        0    91911   100428       2   \n",
       "8f52abc02aed2ce6c63be04570a7e609f9cdac5f        0       21        0  133138   \n",
       "3cb3c2347cdbe128b645e432f4dcbca702e0e8e3        0        0        0       0   \n",
       "8e9a3b9a9d91e86f21da1bd57b8ae4486c78bbe0    86870        0        0       0   \n",
       "\n",
       "                                            9876  \n",
       "2f328e48f4252bbade0dd7f66b0d5bf1b09617dd  225872  \n",
       "ae0ddda08027454fdb5db77c96b94691b8274cdd       1  \n",
       "8f52abc02aed2ce6c63be04570a7e609f9cdac5f       0  \n",
       "3cb3c2347cdbe128b645e432f4dcbca702e0e8e3       0  \n",
       "8e9a3b9a9d91e86f21da1bd57b8ae4486c78bbe0       0  "
      ]
     },
     "execution_count": 2,
     "metadata": {},
     "output_type": "execute_result"
    }
   ],
   "source": [
    "exp.data_df"
   ]
  },
  {
   "cell_type": "code",
   "execution_count": 3,
   "metadata": {
    "collapsed": false
   },
   "outputs": [
    {
     "data": {
      "text/html": [
       "<div>\n",
       "<table border=\"1\" class=\"dataframe\">\n",
       "  <thead>\n",
       "    <tr style=\"text-align: right;\">\n",
       "      <th></th>\n",
       "      <th>#SampleID</th>\n",
       "      <th>BarcodeSequence</th>\n",
       "      <th>LinkerPrimerSequence</th>\n",
       "      <th>Description</th>\n",
       "      <th>patient_id</th>\n",
       "      <th>group</th>\n",
       "      <th>asthma</th>\n",
       "      <th>vas</th>\n",
       "      <th>amplicon_conc</th>\n",
       "    </tr>\n",
       "    <tr>\n",
       "      <th>#SampleID</th>\n",
       "      <th></th>\n",
       "      <th></th>\n",
       "      <th></th>\n",
       "      <th></th>\n",
       "      <th></th>\n",
       "      <th></th>\n",
       "      <th></th>\n",
       "      <th></th>\n",
       "      <th></th>\n",
       "    </tr>\n",
       "  </thead>\n",
       "  <tbody>\n",
       "    <tr>\n",
       "      <th>sample0</th>\n",
       "      <td>sample0</td>\n",
       "      <td>ACTGAGCG</td>\n",
       "      <td>AAAA</td>\n",
       "      <td>sample0</td>\n",
       "      <td>132</td>\n",
       "      <td>CRSsNP</td>\n",
       "      <td>0</td>\n",
       "      <td>49</td>\n",
       "      <td>4.3</td>\n",
       "    </tr>\n",
       "    <tr>\n",
       "      <th>sample1</th>\n",
       "      <td>sample1</td>\n",
       "      <td>AAGAGGCA</td>\n",
       "      <td>AAAA</td>\n",
       "      <td>sample1</td>\n",
       "      <td>315</td>\n",
       "      <td>CRSwNP</td>\n",
       "      <td>1</td>\n",
       "      <td>43</td>\n",
       "      <td>2.3</td>\n",
       "    </tr>\n",
       "    <tr>\n",
       "      <th>sample2</th>\n",
       "      <td>sample2</td>\n",
       "      <td>ATCTCAGG</td>\n",
       "      <td>AAAA</td>\n",
       "      <td>sample2</td>\n",
       "      <td>742</td>\n",
       "      <td>CRSsNP</td>\n",
       "      <td>0</td>\n",
       "      <td>23</td>\n",
       "      <td>3.2</td>\n",
       "    </tr>\n",
       "    <tr>\n",
       "      <th>1234</th>\n",
       "      <td>1234</td>\n",
       "      <td>ATGCGCAG</td>\n",
       "      <td>AAAA</td>\n",
       "      <td>1234</td>\n",
       "      <td>927</td>\n",
       "      <td>control</td>\n",
       "      <td>1</td>\n",
       "      <td>87</td>\n",
       "      <td>1.0</td>\n",
       "    </tr>\n",
       "    <tr>\n",
       "      <th>9876</th>\n",
       "      <td>9876</td>\n",
       "      <td>TAGGCATG</td>\n",
       "      <td>AAAA</td>\n",
       "      <td>9876</td>\n",
       "      <td>538</td>\n",
       "      <td>CRSwNP</td>\n",
       "      <td>1</td>\n",
       "      <td>12</td>\n",
       "      <td>1.3</td>\n",
       "    </tr>\n",
       "  </tbody>\n",
       "</table>\n",
       "</div>"
      ],
      "text/plain": [
       "          #SampleID BarcodeSequence LinkerPrimerSequence Description  \\\n",
       "#SampleID                                                              \n",
       "sample0     sample0        ACTGAGCG                 AAAA     sample0   \n",
       "sample1     sample1        AAGAGGCA                 AAAA     sample1   \n",
       "sample2     sample2        ATCTCAGG                 AAAA     sample2   \n",
       "1234           1234        ATGCGCAG                 AAAA        1234   \n",
       "9876           9876        TAGGCATG                 AAAA        9876   \n",
       "\n",
       "           patient_id    group  asthma  vas  amplicon_conc  \n",
       "#SampleID                                                   \n",
       "sample0           132   CRSsNP       0   49            4.3  \n",
       "sample1           315   CRSwNP       1   43            2.3  \n",
       "sample2           742   CRSsNP       0   23            3.2  \n",
       "1234              927  control       1   87            1.0  \n",
       "9876              538   CRSwNP       1   12            1.3  "
      ]
     },
     "execution_count": 3,
     "metadata": {},
     "output_type": "execute_result"
    }
   ],
   "source": [
    "exp.mapping_df"
   ]
  },
  {
   "cell_type": "markdown",
   "metadata": {},
   "source": [
    "## Sample Filter examples"
   ]
  },
  {
   "cell_type": "code",
   "execution_count": 4,
   "metadata": {
    "collapsed": true
   },
   "outputs": [],
   "source": [
    "Sample = exp.Sample\n",
    "#OR\n",
    "from omicexperiment.transforms.filters import Sample"
   ]
  },
  {
   "cell_type": "code",
   "execution_count": 5,
   "metadata": {
    "collapsed": false
   },
   "outputs": [
    {
     "data": {
      "text/html": [
       "<div>\n",
       "<table border=\"1\" class=\"dataframe\">\n",
       "  <thead>\n",
       "    <tr style=\"text-align: right;\">\n",
       "      <th></th>\n",
       "      <th>sample1</th>\n",
       "      <th>sample2</th>\n",
       "      <th>1234</th>\n",
       "      <th>9876</th>\n",
       "    </tr>\n",
       "  </thead>\n",
       "  <tbody>\n",
       "    <tr>\n",
       "      <th>2f328e48f4252bbade0dd7f66b0d5bf1b09617dd</th>\n",
       "      <td>2</td>\n",
       "      <td>0</td>\n",
       "      <td>0</td>\n",
       "      <td>225872</td>\n",
       "    </tr>\n",
       "    <tr>\n",
       "      <th>ae0ddda08027454fdb5db77c96b94691b8274cdd</th>\n",
       "      <td>91911</td>\n",
       "      <td>100428</td>\n",
       "      <td>2</td>\n",
       "      <td>1</td>\n",
       "    </tr>\n",
       "    <tr>\n",
       "      <th>8f52abc02aed2ce6c63be04570a7e609f9cdac5f</th>\n",
       "      <td>21</td>\n",
       "      <td>0</td>\n",
       "      <td>133138</td>\n",
       "      <td>0</td>\n",
       "    </tr>\n",
       "    <tr>\n",
       "      <th>3cb3c2347cdbe128b645e432f4dcbca702e0e8e3</th>\n",
       "      <td>0</td>\n",
       "      <td>0</td>\n",
       "      <td>0</td>\n",
       "      <td>0</td>\n",
       "    </tr>\n",
       "    <tr>\n",
       "      <th>8e9a3b9a9d91e86f21da1bd57b8ae4486c78bbe0</th>\n",
       "      <td>0</td>\n",
       "      <td>0</td>\n",
       "      <td>0</td>\n",
       "      <td>0</td>\n",
       "    </tr>\n",
       "  </tbody>\n",
       "</table>\n",
       "</div>"
      ],
      "text/plain": [
       "                                          sample1  sample2    1234    9876\n",
       "2f328e48f4252bbade0dd7f66b0d5bf1b09617dd        2        0       0  225872\n",
       "ae0ddda08027454fdb5db77c96b94691b8274cdd    91911   100428       2       1\n",
       "8f52abc02aed2ce6c63be04570a7e609f9cdac5f       21        0  133138       0\n",
       "3cb3c2347cdbe128b645e432f4dcbca702e0e8e3        0        0       0       0\n",
       "8e9a3b9a9d91e86f21da1bd57b8ae4486c78bbe0        0        0       0       0"
      ]
     },
     "execution_count": 5,
     "metadata": {},
     "output_type": "execute_result"
    }
   ],
   "source": [
    "#1. the count filter\n",
    "exp.dapply(Sample.count > 90000) #note sample0 was filtered off as count = 86870\n",
    "# this filter implements various operators"
   ]
  },
  {
   "cell_type": "code",
   "execution_count": 6,
   "metadata": {
    "collapsed": false
   },
   "outputs": [
    {
     "data": {
      "text/html": [
       "<div>\n",
       "<table border=\"1\" class=\"dataframe\">\n",
       "  <thead>\n",
       "    <tr style=\"text-align: right;\">\n",
       "      <th></th>\n",
       "      <th>sample2</th>\n",
       "    </tr>\n",
       "  </thead>\n",
       "  <tbody>\n",
       "    <tr>\n",
       "      <th>2f328e48f4252bbade0dd7f66b0d5bf1b09617dd</th>\n",
       "      <td>0</td>\n",
       "    </tr>\n",
       "    <tr>\n",
       "      <th>ae0ddda08027454fdb5db77c96b94691b8274cdd</th>\n",
       "      <td>100428</td>\n",
       "    </tr>\n",
       "    <tr>\n",
       "      <th>8f52abc02aed2ce6c63be04570a7e609f9cdac5f</th>\n",
       "      <td>0</td>\n",
       "    </tr>\n",
       "    <tr>\n",
       "      <th>3cb3c2347cdbe128b645e432f4dcbca702e0e8e3</th>\n",
       "      <td>0</td>\n",
       "    </tr>\n",
       "    <tr>\n",
       "      <th>8e9a3b9a9d91e86f21da1bd57b8ae4486c78bbe0</th>\n",
       "      <td>0</td>\n",
       "    </tr>\n",
       "  </tbody>\n",
       "</table>\n",
       "</div>"
      ],
      "text/plain": [
       "                                          sample2\n",
       "2f328e48f4252bbade0dd7f66b0d5bf1b09617dd        0\n",
       "ae0ddda08027454fdb5db77c96b94691b8274cdd   100428\n",
       "8f52abc02aed2ce6c63be04570a7e609f9cdac5f        0\n",
       "3cb3c2347cdbe128b645e432f4dcbca702e0e8e3        0\n",
       "8e9a3b9a9d91e86f21da1bd57b8ae4486c78bbe0        0"
      ]
     },
     "execution_count": 6,
     "metadata": {},
     "output_type": "execute_result"
    }
   ],
   "source": [
    "#the count filter implements various operators (due to the FlexibleOperator mixin)\n",
    "#here we try the __eq__ (==) operator, the cell above we tried the > operator\n",
    "exp.dapply(Sample.count == 100428)"
   ]
  },
  {
   "cell_type": "code",
   "execution_count": 7,
   "metadata": {
    "collapsed": false
   },
   "outputs": [
    {
     "data": {
      "text/html": [
       "<div>\n",
       "<table border=\"1\" class=\"dataframe\">\n",
       "  <thead>\n",
       "    <tr style=\"text-align: right;\">\n",
       "      <th>#SampleID</th>\n",
       "      <th>1234</th>\n",
       "    </tr>\n",
       "  </thead>\n",
       "  <tbody>\n",
       "    <tr>\n",
       "      <th>2f328e48f4252bbade0dd7f66b0d5bf1b09617dd</th>\n",
       "      <td>0</td>\n",
       "    </tr>\n",
       "    <tr>\n",
       "      <th>ae0ddda08027454fdb5db77c96b94691b8274cdd</th>\n",
       "      <td>2</td>\n",
       "    </tr>\n",
       "    <tr>\n",
       "      <th>8f52abc02aed2ce6c63be04570a7e609f9cdac5f</th>\n",
       "      <td>133138</td>\n",
       "    </tr>\n",
       "    <tr>\n",
       "      <th>3cb3c2347cdbe128b645e432f4dcbca702e0e8e3</th>\n",
       "      <td>0</td>\n",
       "    </tr>\n",
       "    <tr>\n",
       "      <th>8e9a3b9a9d91e86f21da1bd57b8ae4486c78bbe0</th>\n",
       "      <td>0</td>\n",
       "    </tr>\n",
       "  </tbody>\n",
       "</table>\n",
       "</div>"
      ],
      "text/plain": [
       "#SampleID                                   1234\n",
       "2f328e48f4252bbade0dd7f66b0d5bf1b09617dd       0\n",
       "ae0ddda08027454fdb5db77c96b94691b8274cdd       2\n",
       "8f52abc02aed2ce6c63be04570a7e609f9cdac5f  133138\n",
       "3cb3c2347cdbe128b645e432f4dcbca702e0e8e3       0\n",
       "8e9a3b9a9d91e86f21da1bd57b8ae4486c78bbe0       0"
      ]
     },
     "execution_count": 7,
     "metadata": {},
     "output_type": "execute_result"
    }
   ],
   "source": [
    "#2. the att (attribute) filter\n",
    "#   this filters on the \"attributes\" (i.e. metadata) of the samples\n",
    "#   present in the mapping dataframe\n",
    "#   this uses an attribute access (dotted) syntax\n",
    "#here we only select samples in the 'control' group\n",
    "exp.dapply(Sample.att.group == 'control') #only one sample in this group"
   ]
  },
  {
   "cell_type": "code",
   "execution_count": 8,
   "metadata": {
    "collapsed": false
   },
   "outputs": [
    {
     "data": {
      "text/html": [
       "<div>\n",
       "<table border=\"1\" class=\"dataframe\">\n",
       "  <thead>\n",
       "    <tr style=\"text-align: right;\">\n",
       "      <th>#SampleID</th>\n",
       "      <th>sample1</th>\n",
       "      <th>1234</th>\n",
       "      <th>9876</th>\n",
       "    </tr>\n",
       "  </thead>\n",
       "  <tbody>\n",
       "    <tr>\n",
       "      <th>2f328e48f4252bbade0dd7f66b0d5bf1b09617dd</th>\n",
       "      <td>2</td>\n",
       "      <td>0</td>\n",
       "      <td>225872</td>\n",
       "    </tr>\n",
       "    <tr>\n",
       "      <th>ae0ddda08027454fdb5db77c96b94691b8274cdd</th>\n",
       "      <td>91911</td>\n",
       "      <td>2</td>\n",
       "      <td>1</td>\n",
       "    </tr>\n",
       "    <tr>\n",
       "      <th>8f52abc02aed2ce6c63be04570a7e609f9cdac5f</th>\n",
       "      <td>21</td>\n",
       "      <td>133138</td>\n",
       "      <td>0</td>\n",
       "    </tr>\n",
       "    <tr>\n",
       "      <th>3cb3c2347cdbe128b645e432f4dcbca702e0e8e3</th>\n",
       "      <td>0</td>\n",
       "      <td>0</td>\n",
       "      <td>0</td>\n",
       "    </tr>\n",
       "    <tr>\n",
       "      <th>8e9a3b9a9d91e86f21da1bd57b8ae4486c78bbe0</th>\n",
       "      <td>0</td>\n",
       "      <td>0</td>\n",
       "      <td>0</td>\n",
       "    </tr>\n",
       "  </tbody>\n",
       "</table>\n",
       "</div>"
      ],
      "text/plain": [
       "#SampleID                                 sample1    1234    9876\n",
       "2f328e48f4252bbade0dd7f66b0d5bf1b09617dd        2       0  225872\n",
       "ae0ddda08027454fdb5db77c96b94691b8274cdd    91911       2       1\n",
       "8f52abc02aed2ce6c63be04570a7e609f9cdac5f       21  133138       0\n",
       "3cb3c2347cdbe128b645e432f4dcbca702e0e8e3        0       0       0\n",
       "8e9a3b9a9d91e86f21da1bd57b8ae4486c78bbe0        0       0       0"
      ]
     },
     "execution_count": 8,
     "metadata": {},
     "output_type": "execute_result"
    }
   ],
   "source": [
    "#select only samples of asthmatic patients\n",
    "exp.dapply(Sample.att.asthma == 1) #only three asthma-positive samples"
   ]
  },
  {
   "cell_type": "code",
   "execution_count": 9,
   "metadata": {
    "collapsed": false
   },
   "outputs": [
    {
     "data": {
      "text/html": [
       "<div>\n",
       "<table border=\"1\" class=\"dataframe\">\n",
       "  <thead>\n",
       "    <tr style=\"text-align: right;\">\n",
       "      <th>#SampleID</th>\n",
       "      <th>sample1</th>\n",
       "      <th>1234</th>\n",
       "      <th>9876</th>\n",
       "    </tr>\n",
       "  </thead>\n",
       "  <tbody>\n",
       "    <tr>\n",
       "      <th>2f328e48f4252bbade0dd7f66b0d5bf1b09617dd</th>\n",
       "      <td>2</td>\n",
       "      <td>0</td>\n",
       "      <td>225872</td>\n",
       "    </tr>\n",
       "    <tr>\n",
       "      <th>ae0ddda08027454fdb5db77c96b94691b8274cdd</th>\n",
       "      <td>91911</td>\n",
       "      <td>2</td>\n",
       "      <td>1</td>\n",
       "    </tr>\n",
       "    <tr>\n",
       "      <th>8f52abc02aed2ce6c63be04570a7e609f9cdac5f</th>\n",
       "      <td>21</td>\n",
       "      <td>133138</td>\n",
       "      <td>0</td>\n",
       "    </tr>\n",
       "    <tr>\n",
       "      <th>3cb3c2347cdbe128b645e432f4dcbca702e0e8e3</th>\n",
       "      <td>0</td>\n",
       "      <td>0</td>\n",
       "      <td>0</td>\n",
       "    </tr>\n",
       "    <tr>\n",
       "      <th>8e9a3b9a9d91e86f21da1bd57b8ae4486c78bbe0</th>\n",
       "      <td>0</td>\n",
       "      <td>0</td>\n",
       "      <td>0</td>\n",
       "    </tr>\n",
       "  </tbody>\n",
       "</table>\n",
       "</div>"
      ],
      "text/plain": [
       "#SampleID                                 sample1    1234    9876\n",
       "2f328e48f4252bbade0dd7f66b0d5bf1b09617dd        2       0  225872\n",
       "ae0ddda08027454fdb5db77c96b94691b8274cdd    91911       2       1\n",
       "8f52abc02aed2ce6c63be04570a7e609f9cdac5f       21  133138       0\n",
       "3cb3c2347cdbe128b645e432f4dcbca702e0e8e3        0       0       0\n",
       "8e9a3b9a9d91e86f21da1bd57b8ae4486c78bbe0        0       0       0"
      ]
     },
     "execution_count": 9,
     "metadata": {},
     "output_type": "execute_result"
    }
   ],
   "source": [
    "#another alias for the att filter is the c attribute on the Sample Filter\n",
    "#(c is short for \"column\", as per sqlalchemy convention)\n",
    "exp.dapply(Sample.c.asthma == 1) #only three asthma-positive samples"
   ]
  },
  {
   "cell_type": "code",
   "execution_count": 10,
   "metadata": {
    "collapsed": false
   },
   "outputs": [
    {
     "data": {
      "text/html": [
       "<div>\n",
       "<table border=\"1\" class=\"dataframe\">\n",
       "  <thead>\n",
       "    <tr style=\"text-align: right;\">\n",
       "      <th>#SampleID</th>\n",
       "      <th>sample0</th>\n",
       "    </tr>\n",
       "  </thead>\n",
       "  <tbody>\n",
       "    <tr>\n",
       "      <th>2f328e48f4252bbade0dd7f66b0d5bf1b09617dd</th>\n",
       "      <td>0</td>\n",
       "    </tr>\n",
       "    <tr>\n",
       "      <th>ae0ddda08027454fdb5db77c96b94691b8274cdd</th>\n",
       "      <td>0</td>\n",
       "    </tr>\n",
       "    <tr>\n",
       "      <th>8f52abc02aed2ce6c63be04570a7e609f9cdac5f</th>\n",
       "      <td>0</td>\n",
       "    </tr>\n",
       "    <tr>\n",
       "      <th>3cb3c2347cdbe128b645e432f4dcbca702e0e8e3</th>\n",
       "      <td>0</td>\n",
       "    </tr>\n",
       "    <tr>\n",
       "      <th>8e9a3b9a9d91e86f21da1bd57b8ae4486c78bbe0</th>\n",
       "      <td>86870</td>\n",
       "    </tr>\n",
       "  </tbody>\n",
       "</table>\n",
       "</div>"
      ],
      "text/plain": [
       "#SampleID                                 sample0\n",
       "2f328e48f4252bbade0dd7f66b0d5bf1b09617dd        0\n",
       "ae0ddda08027454fdb5db77c96b94691b8274cdd        0\n",
       "8f52abc02aed2ce6c63be04570a7e609f9cdac5f        0\n",
       "3cb3c2347cdbe128b645e432f4dcbca702e0e8e3        0\n",
       "8e9a3b9a9d91e86f21da1bd57b8ae4486c78bbe0    86870"
      ]
     },
     "execution_count": 10,
     "metadata": {},
     "output_type": "execute_result"
    }
   ],
   "source": [
    "#some columns may not be legal python attribute names,\n",
    "#so for these we allow the [] (__getitem__) syntax\n",
    "exp.dapply(Sample.att['#SampleID'] == 'sample0')"
   ]
  },
  {
   "cell_type": "markdown",
   "metadata": {},
   "source": [
    "##### An example of method chaining using **_efilter_** instead of *filter*"
   ]
  },
  {
   "cell_type": "code",
   "execution_count": 11,
   "metadata": {
    "collapsed": false
   },
   "outputs": [
    {
     "data": {
      "text/html": [
       "<div>\n",
       "<table border=\"1\" class=\"dataframe\">\n",
       "  <thead>\n",
       "    <tr style=\"text-align: right;\">\n",
       "      <th>#SampleID</th>\n",
       "      <th>1234</th>\n",
       "      <th>9876</th>\n",
       "    </tr>\n",
       "  </thead>\n",
       "  <tbody>\n",
       "    <tr>\n",
       "      <th>2f328e48f4252bbade0dd7f66b0d5bf1b09617dd</th>\n",
       "      <td>0</td>\n",
       "      <td>225872</td>\n",
       "    </tr>\n",
       "    <tr>\n",
       "      <th>ae0ddda08027454fdb5db77c96b94691b8274cdd</th>\n",
       "      <td>2</td>\n",
       "      <td>1</td>\n",
       "    </tr>\n",
       "    <tr>\n",
       "      <th>8f52abc02aed2ce6c63be04570a7e609f9cdac5f</th>\n",
       "      <td>133138</td>\n",
       "      <td>0</td>\n",
       "    </tr>\n",
       "    <tr>\n",
       "      <th>3cb3c2347cdbe128b645e432f4dcbca702e0e8e3</th>\n",
       "      <td>0</td>\n",
       "      <td>0</td>\n",
       "    </tr>\n",
       "    <tr>\n",
       "      <th>8e9a3b9a9d91e86f21da1bd57b8ae4486c78bbe0</th>\n",
       "      <td>0</td>\n",
       "      <td>0</td>\n",
       "    </tr>\n",
       "  </tbody>\n",
       "</table>\n",
       "</div>"
      ],
      "text/plain": [
       "#SampleID                                   1234    9876\n",
       "2f328e48f4252bbade0dd7f66b0d5bf1b09617dd       0  225872\n",
       "ae0ddda08027454fdb5db77c96b94691b8274cdd       2       1\n",
       "8f52abc02aed2ce6c63be04570a7e609f9cdac5f  133138       0\n",
       "3cb3c2347cdbe128b645e432f4dcbca702e0e8e3       0       0\n",
       "8e9a3b9a9d91e86f21da1bd57b8ae4486c78bbe0       0       0"
      ]
     },
     "execution_count": 11,
     "metadata": {},
     "output_type": "execute_result"
    }
   ],
   "source": [
    "exp.apply(Sample.c.asthma == 1).dapply(Sample.count > 100000) #two samples"
   ]
  },
  {
   "cell_type": "code",
   "execution_count": 12,
   "metadata": {
    "collapsed": false
   },
   "outputs": [
    {
     "data": {
      "text/html": [
       "<div>\n",
       "<table border=\"1\" class=\"dataframe\">\n",
       "  <thead>\n",
       "    <tr style=\"text-align: right;\">\n",
       "      <th>group</th>\n",
       "      <th>CRSsNP</th>\n",
       "      <th>CRSwNP</th>\n",
       "      <th>control</th>\n",
       "    </tr>\n",
       "  </thead>\n",
       "  <tbody>\n",
       "    <tr>\n",
       "      <th>2f328e48f4252bbade0dd7f66b0d5bf1b09617dd</th>\n",
       "      <td>0.000000</td>\n",
       "      <td>71.072695</td>\n",
       "      <td>0.000000</td>\n",
       "    </tr>\n",
       "    <tr>\n",
       "      <th>ae0ddda08027454fdb5db77c96b94691b8274cdd</th>\n",
       "      <td>53.619366</td>\n",
       "      <td>28.920697</td>\n",
       "      <td>0.001502</td>\n",
       "    </tr>\n",
       "    <tr>\n",
       "      <th>8f52abc02aed2ce6c63be04570a7e609f9cdac5f</th>\n",
       "      <td>0.000000</td>\n",
       "      <td>0.006608</td>\n",
       "      <td>99.998498</td>\n",
       "    </tr>\n",
       "    <tr>\n",
       "      <th>3cb3c2347cdbe128b645e432f4dcbca702e0e8e3</th>\n",
       "      <td>0.000000</td>\n",
       "      <td>0.000000</td>\n",
       "      <td>0.000000</td>\n",
       "    </tr>\n",
       "    <tr>\n",
       "      <th>8e9a3b9a9d91e86f21da1bd57b8ae4486c78bbe0</th>\n",
       "      <td>46.380634</td>\n",
       "      <td>0.000000</td>\n",
       "      <td>0.000000</td>\n",
       "    </tr>\n",
       "  </tbody>\n",
       "</table>\n",
       "</div>"
      ],
      "text/plain": [
       "group                                        CRSsNP     CRSwNP    control\n",
       "2f328e48f4252bbade0dd7f66b0d5bf1b09617dd   0.000000  71.072695   0.000000\n",
       "ae0ddda08027454fdb5db77c96b94691b8274cdd  53.619366  28.920697   0.001502\n",
       "8f52abc02aed2ce6c63be04570a7e609f9cdac5f   0.000000   0.006608  99.998498\n",
       "3cb3c2347cdbe128b645e432f4dcbca702e0e8e3   0.000000   0.000000   0.000000\n",
       "8e9a3b9a9d91e86f21da1bd57b8ae4486c78bbe0  46.380634   0.000000   0.000000"
      ]
     },
     "execution_count": 12,
     "metadata": {},
     "output_type": "execute_result"
    }
   ],
   "source": [
    "# the Sample groupby filter\n",
    "#the aggregate function here is the mean,\n",
    "#then finally normalizes to a 100 (mean relative abundance)\n",
    "exp.dapply(Sample.groupby(\"group\"))"
   ]
  },
  {
   "cell_type": "code",
   "execution_count": 13,
   "metadata": {
    "collapsed": false
   },
   "outputs": [
    {
     "data": {
      "text/html": [
       "<div>\n",
       "<table border=\"1\" class=\"dataframe\">\n",
       "  <thead>\n",
       "    <tr style=\"text-align: right;\">\n",
       "      <th>group</th>\n",
       "      <th>CRSsNP</th>\n",
       "      <th>CRSwNP</th>\n",
       "      <th>control</th>\n",
       "    </tr>\n",
       "  </thead>\n",
       "  <tbody>\n",
       "    <tr>\n",
       "      <th>2f328e48f4252bbade0dd7f66b0d5bf1b09617dd</th>\n",
       "      <td>0</td>\n",
       "      <td>225874</td>\n",
       "      <td>0</td>\n",
       "    </tr>\n",
       "    <tr>\n",
       "      <th>ae0ddda08027454fdb5db77c96b94691b8274cdd</th>\n",
       "      <td>100428</td>\n",
       "      <td>91912</td>\n",
       "      <td>2</td>\n",
       "    </tr>\n",
       "    <tr>\n",
       "      <th>8f52abc02aed2ce6c63be04570a7e609f9cdac5f</th>\n",
       "      <td>0</td>\n",
       "      <td>21</td>\n",
       "      <td>133138</td>\n",
       "    </tr>\n",
       "    <tr>\n",
       "      <th>3cb3c2347cdbe128b645e432f4dcbca702e0e8e3</th>\n",
       "      <td>0</td>\n",
       "      <td>0</td>\n",
       "      <td>0</td>\n",
       "    </tr>\n",
       "    <tr>\n",
       "      <th>8e9a3b9a9d91e86f21da1bd57b8ae4486c78bbe0</th>\n",
       "      <td>86870</td>\n",
       "      <td>0</td>\n",
       "      <td>0</td>\n",
       "    </tr>\n",
       "  </tbody>\n",
       "</table>\n",
       "</div>"
      ],
      "text/plain": [
       "group                                     CRSsNP  CRSwNP  control\n",
       "2f328e48f4252bbade0dd7f66b0d5bf1b09617dd       0  225874        0\n",
       "ae0ddda08027454fdb5db77c96b94691b8274cdd  100428   91912        2\n",
       "8f52abc02aed2ce6c63be04570a7e609f9cdac5f       0      21   133138\n",
       "3cb3c2347cdbe128b645e432f4dcbca702e0e8e3       0       0        0\n",
       "8e9a3b9a9d91e86f21da1bd57b8ae4486c78bbe0   86870       0        0"
      ]
     },
     "execution_count": 13,
     "metadata": {},
     "output_type": "execute_result"
    }
   ],
   "source": [
    "# the Sample groupby_sum filter\n",
    "#the aggregate function here is the sum -- no normalization is applied\n",
    "exp.dapply(Sample.groupby_sum(\"group\"))"
   ]
  },
  {
   "cell_type": "markdown",
   "metadata": {},
   "source": [
    "## Taxonomy filters\n",
    "Taxonomy filters allows common operations done on the taxonomy metadata of the Observations/OTUs."
   ]
  },
  {
   "cell_type": "code",
   "execution_count": 14,
   "metadata": {
    "collapsed": false
   },
   "outputs": [
    {
     "data": {
      "text/html": [
       "<div>\n",
       "<table border=\"1\" class=\"dataframe\">\n",
       "  <thead>\n",
       "    <tr style=\"text-align: right;\">\n",
       "      <th></th>\n",
       "      <th>kingdom</th>\n",
       "      <th>phylum</th>\n",
       "      <th>class</th>\n",
       "      <th>order</th>\n",
       "      <th>family</th>\n",
       "      <th>genus</th>\n",
       "      <th>species</th>\n",
       "      <th>rank_resolution</th>\n",
       "      <th>tax</th>\n",
       "      <th>otu</th>\n",
       "    </tr>\n",
       "    <tr>\n",
       "      <th>otu</th>\n",
       "      <th></th>\n",
       "      <th></th>\n",
       "      <th></th>\n",
       "      <th></th>\n",
       "      <th></th>\n",
       "      <th></th>\n",
       "      <th></th>\n",
       "      <th></th>\n",
       "      <th></th>\n",
       "      <th></th>\n",
       "    </tr>\n",
       "  </thead>\n",
       "  <tbody>\n",
       "    <tr>\n",
       "      <th>2f328e48f4252bbade0dd7f66b0d5bf1b09617dd</th>\n",
       "      <td>k__Fungi</td>\n",
       "      <td>p__Ascomycota</td>\n",
       "      <td>c__Eurotiomycetes</td>\n",
       "      <td>o__Eurotiales</td>\n",
       "      <td>f__Trichocomaceae</td>\n",
       "      <td>g__Aspergillus</td>\n",
       "      <td>s__Aspergillus bombycis</td>\n",
       "      <td>species</td>\n",
       "      <td>k__Fungi;p__Ascomycota;c__Eurotiomycetes;o__Eu...</td>\n",
       "      <td>2f328e48f4252bbade0dd7f66b0d5bf1b09617dd</td>\n",
       "    </tr>\n",
       "    <tr>\n",
       "      <th>ae0ddda08027454fdb5db77c96b94691b8274cdd</th>\n",
       "      <td>k__Fungi</td>\n",
       "      <td>p__Ascomycota</td>\n",
       "      <td>c__Eurotiomycetes</td>\n",
       "      <td>o__Eurotiales</td>\n",
       "      <td>f__Trichocomaceae</td>\n",
       "      <td>g__Aspergillus</td>\n",
       "      <td>s__unidentified (g__Aspergillus)</td>\n",
       "      <td>genus</td>\n",
       "      <td>k__Fungi;p__Ascomycota;c__Eurotiomycetes;o__Eu...</td>\n",
       "      <td>ae0ddda08027454fdb5db77c96b94691b8274cdd</td>\n",
       "    </tr>\n",
       "    <tr>\n",
       "      <th>8f52abc02aed2ce6c63be04570a7e609f9cdac5f</th>\n",
       "      <td>k__Fungi</td>\n",
       "      <td>p__Ascomycota</td>\n",
       "      <td>c__Dothideomycetes</td>\n",
       "      <td>o__Pleosporales</td>\n",
       "      <td>f__Pleosporaceae</td>\n",
       "      <td>g__unidentified (f__Pleosporaceae)</td>\n",
       "      <td>s__unidentified (f__Pleosporaceae)</td>\n",
       "      <td>family</td>\n",
       "      <td>k__Fungi;p__Ascomycota;c__Dothideomycetes;o__P...</td>\n",
       "      <td>8f52abc02aed2ce6c63be04570a7e609f9cdac5f</td>\n",
       "    </tr>\n",
       "    <tr>\n",
       "      <th>3cb3c2347cdbe128b645e432f4dcbca702e0e8e3</th>\n",
       "      <td>k__Fungi</td>\n",
       "      <td>p__Ascomycota</td>\n",
       "      <td>c__Eurotiomycetes</td>\n",
       "      <td>o__Eurotiales</td>\n",
       "      <td>f__Trichocomaceae</td>\n",
       "      <td>g__Aspergillus</td>\n",
       "      <td>s__Aspergillus flavus</td>\n",
       "      <td>species</td>\n",
       "      <td>k__Fungi;p__Ascomycota;c__Eurotiomycetes;o__Eu...</td>\n",
       "      <td>3cb3c2347cdbe128b645e432f4dcbca702e0e8e3</td>\n",
       "    </tr>\n",
       "    <tr>\n",
       "      <th>8e9a3b9a9d91e86f21da1bd57b8ae4486c78bbe0</th>\n",
       "      <td>k__Fungi</td>\n",
       "      <td>p__Ascomycota</td>\n",
       "      <td>c__Dothideomycetes</td>\n",
       "      <td>o__Pleosporales</td>\n",
       "      <td>f__Pleosporaceae</td>\n",
       "      <td>g__Lewia</td>\n",
       "      <td>s__unidentified (g__Lewia)</td>\n",
       "      <td>genus</td>\n",
       "      <td>k__Fungi;p__Ascomycota;c__Dothideomycetes;o__P...</td>\n",
       "      <td>8e9a3b9a9d91e86f21da1bd57b8ae4486c78bbe0</td>\n",
       "    </tr>\n",
       "    <tr>\n",
       "      <th>54c89100c4ebc5b2fceebd3bd9a857fe07dfedb5</th>\n",
       "      <td>No blast hit</td>\n",
       "      <td>p__unidentified (Unassigned)</td>\n",
       "      <td>c__unidentified (Unassigned)</td>\n",
       "      <td>o__unidentified (Unassigned)</td>\n",
       "      <td>f__unidentified (Unassigned)</td>\n",
       "      <td>g__unidentified (Unassigned)</td>\n",
       "      <td>s__unidentified (Unassigned)</td>\n",
       "      <td>NaN</td>\n",
       "      <td>No blast hit</td>\n",
       "      <td>54c89100c4ebc5b2fceebd3bd9a857fe07dfedb5</td>\n",
       "    </tr>\n",
       "  </tbody>\n",
       "</table>\n",
       "</div>"
      ],
      "text/plain": [
       "                                               kingdom  \\\n",
       "otu                                                      \n",
       "2f328e48f4252bbade0dd7f66b0d5bf1b09617dd      k__Fungi   \n",
       "ae0ddda08027454fdb5db77c96b94691b8274cdd      k__Fungi   \n",
       "8f52abc02aed2ce6c63be04570a7e609f9cdac5f      k__Fungi   \n",
       "3cb3c2347cdbe128b645e432f4dcbca702e0e8e3      k__Fungi   \n",
       "8e9a3b9a9d91e86f21da1bd57b8ae4486c78bbe0      k__Fungi   \n",
       "54c89100c4ebc5b2fceebd3bd9a857fe07dfedb5  No blast hit   \n",
       "\n",
       "                                                                phylum  \\\n",
       "otu                                                                      \n",
       "2f328e48f4252bbade0dd7f66b0d5bf1b09617dd                 p__Ascomycota   \n",
       "ae0ddda08027454fdb5db77c96b94691b8274cdd                 p__Ascomycota   \n",
       "8f52abc02aed2ce6c63be04570a7e609f9cdac5f                 p__Ascomycota   \n",
       "3cb3c2347cdbe128b645e432f4dcbca702e0e8e3                 p__Ascomycota   \n",
       "8e9a3b9a9d91e86f21da1bd57b8ae4486c78bbe0                 p__Ascomycota   \n",
       "54c89100c4ebc5b2fceebd3bd9a857fe07dfedb5  p__unidentified (Unassigned)   \n",
       "\n",
       "                                                                 class  \\\n",
       "otu                                                                      \n",
       "2f328e48f4252bbade0dd7f66b0d5bf1b09617dd             c__Eurotiomycetes   \n",
       "ae0ddda08027454fdb5db77c96b94691b8274cdd             c__Eurotiomycetes   \n",
       "8f52abc02aed2ce6c63be04570a7e609f9cdac5f            c__Dothideomycetes   \n",
       "3cb3c2347cdbe128b645e432f4dcbca702e0e8e3             c__Eurotiomycetes   \n",
       "8e9a3b9a9d91e86f21da1bd57b8ae4486c78bbe0            c__Dothideomycetes   \n",
       "54c89100c4ebc5b2fceebd3bd9a857fe07dfedb5  c__unidentified (Unassigned)   \n",
       "\n",
       "                                                                 order  \\\n",
       "otu                                                                      \n",
       "2f328e48f4252bbade0dd7f66b0d5bf1b09617dd                 o__Eurotiales   \n",
       "ae0ddda08027454fdb5db77c96b94691b8274cdd                 o__Eurotiales   \n",
       "8f52abc02aed2ce6c63be04570a7e609f9cdac5f               o__Pleosporales   \n",
       "3cb3c2347cdbe128b645e432f4dcbca702e0e8e3                 o__Eurotiales   \n",
       "8e9a3b9a9d91e86f21da1bd57b8ae4486c78bbe0               o__Pleosporales   \n",
       "54c89100c4ebc5b2fceebd3bd9a857fe07dfedb5  o__unidentified (Unassigned)   \n",
       "\n",
       "                                                                family  \\\n",
       "otu                                                                      \n",
       "2f328e48f4252bbade0dd7f66b0d5bf1b09617dd             f__Trichocomaceae   \n",
       "ae0ddda08027454fdb5db77c96b94691b8274cdd             f__Trichocomaceae   \n",
       "8f52abc02aed2ce6c63be04570a7e609f9cdac5f              f__Pleosporaceae   \n",
       "3cb3c2347cdbe128b645e432f4dcbca702e0e8e3             f__Trichocomaceae   \n",
       "8e9a3b9a9d91e86f21da1bd57b8ae4486c78bbe0              f__Pleosporaceae   \n",
       "54c89100c4ebc5b2fceebd3bd9a857fe07dfedb5  f__unidentified (Unassigned)   \n",
       "\n",
       "                                                                       genus  \\\n",
       "otu                                                                            \n",
       "2f328e48f4252bbade0dd7f66b0d5bf1b09617dd                      g__Aspergillus   \n",
       "ae0ddda08027454fdb5db77c96b94691b8274cdd                      g__Aspergillus   \n",
       "8f52abc02aed2ce6c63be04570a7e609f9cdac5f  g__unidentified (f__Pleosporaceae)   \n",
       "3cb3c2347cdbe128b645e432f4dcbca702e0e8e3                      g__Aspergillus   \n",
       "8e9a3b9a9d91e86f21da1bd57b8ae4486c78bbe0                            g__Lewia   \n",
       "54c89100c4ebc5b2fceebd3bd9a857fe07dfedb5        g__unidentified (Unassigned)   \n",
       "\n",
       "                                                                     species  \\\n",
       "otu                                                                            \n",
       "2f328e48f4252bbade0dd7f66b0d5bf1b09617dd             s__Aspergillus bombycis   \n",
       "ae0ddda08027454fdb5db77c96b94691b8274cdd    s__unidentified (g__Aspergillus)   \n",
       "8f52abc02aed2ce6c63be04570a7e609f9cdac5f  s__unidentified (f__Pleosporaceae)   \n",
       "3cb3c2347cdbe128b645e432f4dcbca702e0e8e3               s__Aspergillus flavus   \n",
       "8e9a3b9a9d91e86f21da1bd57b8ae4486c78bbe0          s__unidentified (g__Lewia)   \n",
       "54c89100c4ebc5b2fceebd3bd9a857fe07dfedb5        s__unidentified (Unassigned)   \n",
       "\n",
       "                                         rank_resolution  \\\n",
       "otu                                                        \n",
       "2f328e48f4252bbade0dd7f66b0d5bf1b09617dd         species   \n",
       "ae0ddda08027454fdb5db77c96b94691b8274cdd           genus   \n",
       "8f52abc02aed2ce6c63be04570a7e609f9cdac5f          family   \n",
       "3cb3c2347cdbe128b645e432f4dcbca702e0e8e3         species   \n",
       "8e9a3b9a9d91e86f21da1bd57b8ae4486c78bbe0           genus   \n",
       "54c89100c4ebc5b2fceebd3bd9a857fe07dfedb5             NaN   \n",
       "\n",
       "                                                                                        tax  \\\n",
       "otu                                                                                           \n",
       "2f328e48f4252bbade0dd7f66b0d5bf1b09617dd  k__Fungi;p__Ascomycota;c__Eurotiomycetes;o__Eu...   \n",
       "ae0ddda08027454fdb5db77c96b94691b8274cdd  k__Fungi;p__Ascomycota;c__Eurotiomycetes;o__Eu...   \n",
       "8f52abc02aed2ce6c63be04570a7e609f9cdac5f  k__Fungi;p__Ascomycota;c__Dothideomycetes;o__P...   \n",
       "3cb3c2347cdbe128b645e432f4dcbca702e0e8e3  k__Fungi;p__Ascomycota;c__Eurotiomycetes;o__Eu...   \n",
       "8e9a3b9a9d91e86f21da1bd57b8ae4486c78bbe0  k__Fungi;p__Ascomycota;c__Dothideomycetes;o__P...   \n",
       "54c89100c4ebc5b2fceebd3bd9a857fe07dfedb5                                       No blast hit   \n",
       "\n",
       "                                                                               otu  \n",
       "otu                                                                                 \n",
       "2f328e48f4252bbade0dd7f66b0d5bf1b09617dd  2f328e48f4252bbade0dd7f66b0d5bf1b09617dd  \n",
       "ae0ddda08027454fdb5db77c96b94691b8274cdd  ae0ddda08027454fdb5db77c96b94691b8274cdd  \n",
       "8f52abc02aed2ce6c63be04570a7e609f9cdac5f  8f52abc02aed2ce6c63be04570a7e609f9cdac5f  \n",
       "3cb3c2347cdbe128b645e432f4dcbca702e0e8e3  3cb3c2347cdbe128b645e432f4dcbca702e0e8e3  \n",
       "8e9a3b9a9d91e86f21da1bd57b8ae4486c78bbe0  8e9a3b9a9d91e86f21da1bd57b8ae4486c78bbe0  \n",
       "54c89100c4ebc5b2fceebd3bd9a857fe07dfedb5  54c89100c4ebc5b2fceebd3bd9a857fe07dfedb5  "
      ]
     },
     "execution_count": 14,
     "metadata": {},
     "output_type": "execute_result"
    }
   ],
   "source": [
    "Taxonomy = exp.Taxonomy #OR from omicexperiment.transforms.filters import Taxonomy\n",
    "\n",
    "exp.taxonomy_df"
   ]
  },
  {
   "cell_type": "code",
   "execution_count": 15,
   "metadata": {
    "collapsed": false
   },
   "outputs": [
    {
     "data": {
      "text/html": [
       "<div>\n",
       "<table border=\"1\" class=\"dataframe\">\n",
       "  <thead>\n",
       "    <tr style=\"text-align: right;\">\n",
       "      <th></th>\n",
       "      <th>sample0</th>\n",
       "      <th>sample1</th>\n",
       "      <th>sample2</th>\n",
       "      <th>1234</th>\n",
       "      <th>9876</th>\n",
       "    </tr>\n",
       "    <tr>\n",
       "      <th>genus</th>\n",
       "      <th></th>\n",
       "      <th></th>\n",
       "      <th></th>\n",
       "      <th></th>\n",
       "      <th></th>\n",
       "    </tr>\n",
       "  </thead>\n",
       "  <tbody>\n",
       "    <tr>\n",
       "      <th>g__Aspergillus</th>\n",
       "      <td>0</td>\n",
       "      <td>91913</td>\n",
       "      <td>100428</td>\n",
       "      <td>2</td>\n",
       "      <td>225873</td>\n",
       "    </tr>\n",
       "    <tr>\n",
       "      <th>g__Lewia</th>\n",
       "      <td>86870</td>\n",
       "      <td>0</td>\n",
       "      <td>0</td>\n",
       "      <td>0</td>\n",
       "      <td>0</td>\n",
       "    </tr>\n",
       "    <tr>\n",
       "      <th>g__unidentified (f__Pleosporaceae)</th>\n",
       "      <td>0</td>\n",
       "      <td>21</td>\n",
       "      <td>0</td>\n",
       "      <td>133138</td>\n",
       "      <td>0</td>\n",
       "    </tr>\n",
       "  </tbody>\n",
       "</table>\n",
       "</div>"
      ],
      "text/plain": [
       "                                    sample0  sample1  sample2    1234    9876\n",
       "genus                                                                        \n",
       "g__Aspergillus                            0    91913   100428       2  225873\n",
       "g__Lewia                              86870        0        0       0       0\n",
       "g__unidentified (f__Pleosporaceae)        0       21        0  133138       0"
      ]
     },
     "execution_count": 15,
     "metadata": {},
     "output_type": "execute_result"
    }
   ],
   "source": [
    "#1. the taxonomy groupby filter\n",
    "#this filter is very important, as it is used to collapse otus by their taxonomies\n",
    "#according to the taxonomic rank asked for\n",
    "exp.dapply(Taxonomy.groupby('genus')) #any taxonomic rank can be passed"
   ]
  },
  {
   "cell_type": "code",
   "execution_count": 16,
   "metadata": {
    "collapsed": false
   },
   "outputs": [
    {
     "data": {
      "text/html": [
       "<div>\n",
       "<table border=\"1\" class=\"dataframe\">\n",
       "  <thead>\n",
       "    <tr style=\"text-align: right;\">\n",
       "      <th></th>\n",
       "      <th>sample0</th>\n",
       "      <th>sample1</th>\n",
       "      <th>sample2</th>\n",
       "      <th>1234</th>\n",
       "      <th>9876</th>\n",
       "    </tr>\n",
       "    <tr>\n",
       "      <th>genus</th>\n",
       "      <th></th>\n",
       "      <th></th>\n",
       "      <th></th>\n",
       "      <th></th>\n",
       "      <th></th>\n",
       "    </tr>\n",
       "  </thead>\n",
       "  <tbody>\n",
       "    <tr>\n",
       "      <th>g__Aspergillus</th>\n",
       "      <td>0</td>\n",
       "      <td>91913</td>\n",
       "      <td>100428</td>\n",
       "      <td>2</td>\n",
       "      <td>225873</td>\n",
       "    </tr>\n",
       "    <tr>\n",
       "      <th>g__Lewia</th>\n",
       "      <td>86870</td>\n",
       "      <td>0</td>\n",
       "      <td>0</td>\n",
       "      <td>0</td>\n",
       "      <td>0</td>\n",
       "    </tr>\n",
       "  </tbody>\n",
       "</table>\n",
       "</div>"
      ],
      "text/plain": [
       "                sample0  sample1  sample2  1234    9876\n",
       "genus                                                  \n",
       "g__Aspergillus        0    91913   100428     2  225873\n",
       "g__Lewia          86870        0        0     0       0"
      ]
     },
     "execution_count": 16,
     "metadata": {},
     "output_type": "execute_result"
    }
   ],
   "source": [
    "'''\n",
    "We noticed above that one of the assignments was identified at a highest\n",
    "resolution only at the family level.\n",
    "We can utilize 2. the taxonomy attribute filters to remove these OTUs that\n",
    "were classified at a lower resolution than a genus before continuing with\n",
    "downstream analyses. \n",
    "'''\n",
    "genus_or_higher = exp.apply(Taxonomy.rank_resolution >= 'genus') #note efilter\n",
    "genus_or_higher.apply(Taxonomy.groupby('genus')).data_df"
   ]
  },
  {
   "cell_type": "code",
   "execution_count": 17,
   "metadata": {
    "collapsed": false
   },
   "outputs": [
    {
     "data": {
      "text/html": [
       "<div>\n",
       "<table border=\"1\" class=\"dataframe\">\n",
       "  <thead>\n",
       "    <tr style=\"text-align: right;\">\n",
       "      <th></th>\n",
       "      <th>sample0</th>\n",
       "      <th>sample1</th>\n",
       "      <th>sample2</th>\n",
       "      <th>1234</th>\n",
       "      <th>9876</th>\n",
       "    </tr>\n",
       "  </thead>\n",
       "  <tbody>\n",
       "    <tr>\n",
       "      <th>2f328e48f4252bbade0dd7f66b0d5bf1b09617dd</th>\n",
       "      <td>0</td>\n",
       "      <td>2</td>\n",
       "      <td>0</td>\n",
       "      <td>0</td>\n",
       "      <td>225872</td>\n",
       "    </tr>\n",
       "    <tr>\n",
       "      <th>ae0ddda08027454fdb5db77c96b94691b8274cdd</th>\n",
       "      <td>0</td>\n",
       "      <td>91911</td>\n",
       "      <td>100428</td>\n",
       "      <td>2</td>\n",
       "      <td>1</td>\n",
       "    </tr>\n",
       "    <tr>\n",
       "      <th>3cb3c2347cdbe128b645e432f4dcbca702e0e8e3</th>\n",
       "      <td>0</td>\n",
       "      <td>0</td>\n",
       "      <td>0</td>\n",
       "      <td>0</td>\n",
       "      <td>0</td>\n",
       "    </tr>\n",
       "  </tbody>\n",
       "</table>\n",
       "</div>"
      ],
      "text/plain": [
       "                                          sample0  sample1  sample2  1234  \\\n",
       "2f328e48f4252bbade0dd7f66b0d5bf1b09617dd        0        2        0     0   \n",
       "ae0ddda08027454fdb5db77c96b94691b8274cdd        0    91911   100428     2   \n",
       "3cb3c2347cdbe128b645e432f4dcbca702e0e8e3        0        0        0     0   \n",
       "\n",
       "                                            9876  \n",
       "2f328e48f4252bbade0dd7f66b0d5bf1b09617dd  225872  \n",
       "ae0ddda08027454fdb5db77c96b94691b8274cdd       1  \n",
       "3cb3c2347cdbe128b645e432f4dcbca702e0e8e3       0  "
      ]
     },
     "execution_count": 17,
     "metadata": {},
     "output_type": "execute_result"
    }
   ],
   "source": [
    "#Another example of the various Taxonomy attribute filters\n",
    "exp.dapply(Taxonomy.genus == 'g__Aspergillus')\n",
    "#only three otus had a genus assigned as 'g__Aspergillus\""
   ]
  },
  {
   "cell_type": "markdown",
   "metadata": {},
   "source": [
    "### Missing Taxonomic operations functionality\n",
    "In future versions, diversity"
   ]
  },
  {
   "cell_type": "code",
   "execution_count": null,
   "metadata": {
    "collapsed": true
   },
   "outputs": [],
   "source": []
  }
 ],
 "metadata": {
  "kernelspec": {
   "display_name": "Python 2",
   "language": "python",
   "name": "python2"
  },
  "language_info": {
   "codemirror_mode": {
    "name": "ipython",
    "version": 2
   },
   "file_extension": ".py",
   "mimetype": "text/x-python",
   "name": "python",
   "nbconvert_exporter": "python",
   "pygments_lexer": "ipython2",
   "version": "2.7.10"
  }
 },
 "nbformat": 4,
 "nbformat_minor": 0
}
