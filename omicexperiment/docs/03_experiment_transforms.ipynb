{
 "cells": [
  {
   "cell_type": "markdown",
   "metadata": {},
   "source": [
    "# Experiment transforms\n",
    "Somehow similar to the filters API, the transforms are objects that aim to \"transform\" the experiment object to a new experiment object.\n",
    "\n",
    "Again, the returned value should always a new experiment, this allows chaining and pipelining of transforms.\n",
    "\n",
    "Similar to how filters are applied using the *filter* methods, the transform API is applied using the **apply** method.\n",
    "\n",
    "Examples of transforms are listed in this notebook/chapter."
   ]
  },
  {
   "cell_type": "code",
   "execution_count": 1,
   "metadata": {
    "collapsed": false
   },
   "outputs": [],
   "source": [
    "%load_ext autoreload\n",
    "%autoreload 2\n",
    "\n",
    "#Load our data\n",
    "from omicexperiment.experiment.microbiome import MicrobiomeExperiment\n",
    "\n",
    "mapping = \"example_map.tsv\"\n",
    "biom = \"example_fungal.biom\"\n",
    "tax = \"blast_tax_assignments.txt\"\n",
    "\n",
    "exp = MicrobiomeExperiment(biom, mapping,tax)"
   ]
  },
  {
   "cell_type": "code",
   "execution_count": 2,
   "metadata": {
    "collapsed": false
   },
   "outputs": [
    {
     "data": {
      "text/html": [
       "<div>\n",
       "<table border=\"1\" class=\"dataframe\">\n",
       "  <thead>\n",
       "    <tr style=\"text-align: right;\">\n",
       "      <th></th>\n",
       "      <th>sample0</th>\n",
       "      <th>sample1</th>\n",
       "      <th>sample2</th>\n",
       "      <th>1234</th>\n",
       "      <th>9876</th>\n",
       "    </tr>\n",
       "  </thead>\n",
       "  <tbody>\n",
       "    <tr>\n",
       "      <th>2f328e48f4252bbade0dd7f66b0d5bf1b09617dd</th>\n",
       "      <td>0</td>\n",
       "      <td>2</td>\n",
       "      <td>0</td>\n",
       "      <td>0</td>\n",
       "      <td>225872</td>\n",
       "    </tr>\n",
       "    <tr>\n",
       "      <th>ae0ddda08027454fdb5db77c96b94691b8274cdd</th>\n",
       "      <td>0</td>\n",
       "      <td>91911</td>\n",
       "      <td>100428</td>\n",
       "      <td>2</td>\n",
       "      <td>1</td>\n",
       "    </tr>\n",
       "    <tr>\n",
       "      <th>8f52abc02aed2ce6c63be04570a7e609f9cdac5f</th>\n",
       "      <td>0</td>\n",
       "      <td>21</td>\n",
       "      <td>0</td>\n",
       "      <td>133138</td>\n",
       "      <td>0</td>\n",
       "    </tr>\n",
       "    <tr>\n",
       "      <th>3cb3c2347cdbe128b645e432f4dcbca702e0e8e3</th>\n",
       "      <td>0</td>\n",
       "      <td>0</td>\n",
       "      <td>0</td>\n",
       "      <td>0</td>\n",
       "      <td>0</td>\n",
       "    </tr>\n",
       "    <tr>\n",
       "      <th>8e9a3b9a9d91e86f21da1bd57b8ae4486c78bbe0</th>\n",
       "      <td>86870</td>\n",
       "      <td>0</td>\n",
       "      <td>0</td>\n",
       "      <td>0</td>\n",
       "      <td>0</td>\n",
       "    </tr>\n",
       "  </tbody>\n",
       "</table>\n",
       "</div>"
      ],
      "text/plain": [
       "                                          sample0  sample1  sample2    1234  \\\n",
       "2f328e48f4252bbade0dd7f66b0d5bf1b09617dd        0        2        0       0   \n",
       "ae0ddda08027454fdb5db77c96b94691b8274cdd        0    91911   100428       2   \n",
       "8f52abc02aed2ce6c63be04570a7e609f9cdac5f        0       21        0  133138   \n",
       "3cb3c2347cdbe128b645e432f4dcbca702e0e8e3        0        0        0       0   \n",
       "8e9a3b9a9d91e86f21da1bd57b8ae4486c78bbe0    86870        0        0       0   \n",
       "\n",
       "                                            9876  \n",
       "2f328e48f4252bbade0dd7f66b0d5bf1b09617dd  225872  \n",
       "ae0ddda08027454fdb5db77c96b94691b8274cdd       1  \n",
       "8f52abc02aed2ce6c63be04570a7e609f9cdac5f       0  \n",
       "3cb3c2347cdbe128b645e432f4dcbca702e0e8e3       0  \n",
       "8e9a3b9a9d91e86f21da1bd57b8ae4486c78bbe0       0  "
      ]
     },
     "execution_count": 2,
     "metadata": {},
     "output_type": "execute_result"
    }
   ],
   "source": [
    "exp.counts_df"
   ]
  },
  {
   "cell_type": "code",
   "execution_count": 3,
   "metadata": {
    "collapsed": false
   },
   "outputs": [
    {
     "data": {
      "text/html": [
       "<div>\n",
       "<table border=\"1\" class=\"dataframe\">\n",
       "  <thead>\n",
       "    <tr style=\"text-align: right;\">\n",
       "      <th></th>\n",
       "      <th>#SampleID</th>\n",
       "      <th>BarcodeSequence</th>\n",
       "      <th>LinkerPrimerSequence</th>\n",
       "      <th>Description</th>\n",
       "      <th>patient_id</th>\n",
       "      <th>group</th>\n",
       "      <th>asthma</th>\n",
       "      <th>vas</th>\n",
       "      <th>amplicon_conc</th>\n",
       "    </tr>\n",
       "    <tr>\n",
       "      <th>#SampleID</th>\n",
       "      <th></th>\n",
       "      <th></th>\n",
       "      <th></th>\n",
       "      <th></th>\n",
       "      <th></th>\n",
       "      <th></th>\n",
       "      <th></th>\n",
       "      <th></th>\n",
       "      <th></th>\n",
       "    </tr>\n",
       "  </thead>\n",
       "  <tbody>\n",
       "    <tr>\n",
       "      <th>sample0</th>\n",
       "      <td>sample0</td>\n",
       "      <td>ACTGAGCG</td>\n",
       "      <td>AAAA</td>\n",
       "      <td>sample0</td>\n",
       "      <td>132</td>\n",
       "      <td>CRSsNP</td>\n",
       "      <td>0</td>\n",
       "      <td>49</td>\n",
       "      <td>4.3</td>\n",
       "    </tr>\n",
       "    <tr>\n",
       "      <th>sample1</th>\n",
       "      <td>sample1</td>\n",
       "      <td>AAGAGGCA</td>\n",
       "      <td>AAAA</td>\n",
       "      <td>sample1</td>\n",
       "      <td>315</td>\n",
       "      <td>CRSwNP</td>\n",
       "      <td>1</td>\n",
       "      <td>43</td>\n",
       "      <td>2.3</td>\n",
       "    </tr>\n",
       "    <tr>\n",
       "      <th>sample2</th>\n",
       "      <td>sample2</td>\n",
       "      <td>ATCTCAGG</td>\n",
       "      <td>AAAA</td>\n",
       "      <td>sample2</td>\n",
       "      <td>742</td>\n",
       "      <td>CRSsNP</td>\n",
       "      <td>0</td>\n",
       "      <td>23</td>\n",
       "      <td>3.2</td>\n",
       "    </tr>\n",
       "    <tr>\n",
       "      <th>1234</th>\n",
       "      <td>1234</td>\n",
       "      <td>ATGCGCAG</td>\n",
       "      <td>AAAA</td>\n",
       "      <td>1234</td>\n",
       "      <td>927</td>\n",
       "      <td>control</td>\n",
       "      <td>1</td>\n",
       "      <td>87</td>\n",
       "      <td>1.0</td>\n",
       "    </tr>\n",
       "    <tr>\n",
       "      <th>9876</th>\n",
       "      <td>9876</td>\n",
       "      <td>TAGGCATG</td>\n",
       "      <td>AAAA</td>\n",
       "      <td>9876</td>\n",
       "      <td>538</td>\n",
       "      <td>CRSwNP</td>\n",
       "      <td>1</td>\n",
       "      <td>12</td>\n",
       "      <td>1.3</td>\n",
       "    </tr>\n",
       "  </tbody>\n",
       "</table>\n",
       "</div>"
      ],
      "text/plain": [
       "          #SampleID BarcodeSequence LinkerPrimerSequence Description  \\\n",
       "#SampleID                                                              \n",
       "sample0     sample0        ACTGAGCG                 AAAA     sample0   \n",
       "sample1     sample1        AAGAGGCA                 AAAA     sample1   \n",
       "sample2     sample2        ATCTCAGG                 AAAA     sample2   \n",
       "1234           1234        ATGCGCAG                 AAAA        1234   \n",
       "9876           9876        TAGGCATG                 AAAA        9876   \n",
       "\n",
       "           patient_id    group  asthma  vas  amplicon_conc  \n",
       "#SampleID                                                   \n",
       "sample0           132   CRSsNP       0   49            4.3  \n",
       "sample1           315   CRSwNP       1   43            2.3  \n",
       "sample2           742   CRSsNP       0   23            3.2  \n",
       "1234              927  control       1   87            1.0  \n",
       "9876              538   CRSwNP       1   12            1.3  "
      ]
     },
     "execution_count": 3,
     "metadata": {},
     "output_type": "execute_result"
    }
   ],
   "source": [
    "exp.mapping_df"
   ]
  },
  {
   "cell_type": "markdown",
   "metadata": {},
   "source": [
    "## The apply function\n",
    "The apply function can process three different types of parameters:\n",
    "1. The first type of parameter is to pass a Transform object (or class).\n",
    "\n",
    "2. The second type of parameter is to pass a function (which accepts a pandas DataFrame, intended here to be the experiment's counts_df). The reason for the decision to make this type of function accept a dataframe, rather than an OmicExperiment object is to make the apply functionality compatible with various pandas and numpy aggregate functions like sum, mean etc.\n",
    "\n",
    "3. The third type of parameter is a list of Transform objects."
   ]
  },
  {
   "cell_type": "markdown",
   "metadata": {},
   "source": [
    "### The Relative Abundance Transform"
   ]
  },
  {
   "cell_type": "code",
   "execution_count": 4,
   "metadata": {
    "collapsed": false
   },
   "outputs": [
    {
     "data": {
      "text/plain": [
       "<omicexperiment.experiment.microbiome.MicrobiomeExperiment at 0x7f5a39095ed0>"
      ]
     },
     "execution_count": 4,
     "metadata": {},
     "output_type": "execute_result"
    }
   ],
   "source": [
    "from omicexperiment.transforms.general import RelativeAbundance\n",
    "exp.apply(RelativeAbundance) #note how it returns a new experiment"
   ]
  },
  {
   "cell_type": "code",
   "execution_count": 5,
   "metadata": {
    "collapsed": false
   },
   "outputs": [
    {
     "data": {
      "text/html": [
       "<div>\n",
       "<table border=\"1\" class=\"dataframe\">\n",
       "  <thead>\n",
       "    <tr style=\"text-align: right;\">\n",
       "      <th></th>\n",
       "      <th>sample0</th>\n",
       "      <th>sample1</th>\n",
       "      <th>sample2</th>\n",
       "      <th>1234</th>\n",
       "      <th>9876</th>\n",
       "    </tr>\n",
       "  </thead>\n",
       "  <tbody>\n",
       "    <tr>\n",
       "      <th>2f328e48f4252bbade0dd7f66b0d5bf1b09617dd</th>\n",
       "      <td>0</td>\n",
       "      <td>0.002175</td>\n",
       "      <td>0</td>\n",
       "      <td>0.000000</td>\n",
       "      <td>99.999557</td>\n",
       "    </tr>\n",
       "    <tr>\n",
       "      <th>ae0ddda08027454fdb5db77c96b94691b8274cdd</th>\n",
       "      <td>0</td>\n",
       "      <td>99.974982</td>\n",
       "      <td>100</td>\n",
       "      <td>0.001502</td>\n",
       "      <td>0.000443</td>\n",
       "    </tr>\n",
       "    <tr>\n",
       "      <th>8f52abc02aed2ce6c63be04570a7e609f9cdac5f</th>\n",
       "      <td>0</td>\n",
       "      <td>0.022842</td>\n",
       "      <td>0</td>\n",
       "      <td>99.998498</td>\n",
       "      <td>0.000000</td>\n",
       "    </tr>\n",
       "    <tr>\n",
       "      <th>3cb3c2347cdbe128b645e432f4dcbca702e0e8e3</th>\n",
       "      <td>0</td>\n",
       "      <td>0.000000</td>\n",
       "      <td>0</td>\n",
       "      <td>0.000000</td>\n",
       "      <td>0.000000</td>\n",
       "    </tr>\n",
       "    <tr>\n",
       "      <th>8e9a3b9a9d91e86f21da1bd57b8ae4486c78bbe0</th>\n",
       "      <td>100</td>\n",
       "      <td>0.000000</td>\n",
       "      <td>0</td>\n",
       "      <td>0.000000</td>\n",
       "      <td>0.000000</td>\n",
       "    </tr>\n",
       "  </tbody>\n",
       "</table>\n",
       "</div>"
      ],
      "text/plain": [
       "                                          sample0    sample1  sample2  \\\n",
       "2f328e48f4252bbade0dd7f66b0d5bf1b09617dd        0   0.002175        0   \n",
       "ae0ddda08027454fdb5db77c96b94691b8274cdd        0  99.974982      100   \n",
       "8f52abc02aed2ce6c63be04570a7e609f9cdac5f        0   0.022842        0   \n",
       "3cb3c2347cdbe128b645e432f4dcbca702e0e8e3        0   0.000000        0   \n",
       "8e9a3b9a9d91e86f21da1bd57b8ae4486c78bbe0      100   0.000000        0   \n",
       "\n",
       "                                               1234       9876  \n",
       "2f328e48f4252bbade0dd7f66b0d5bf1b09617dd   0.000000  99.999557  \n",
       "ae0ddda08027454fdb5db77c96b94691b8274cdd   0.001502   0.000443  \n",
       "8f52abc02aed2ce6c63be04570a7e609f9cdac5f  99.998498   0.000000  \n",
       "3cb3c2347cdbe128b645e432f4dcbca702e0e8e3   0.000000   0.000000  \n",
       "8e9a3b9a9d91e86f21da1bd57b8ae4486c78bbe0   0.000000   0.000000  "
      ]
     },
     "execution_count": 5,
     "metadata": {},
     "output_type": "execute_result"
    }
   ],
   "source": [
    "exp.apply(RelativeAbundance).counts_df #peak into the transformed data"
   ]
  },
  {
   "cell_type": "markdown",
   "metadata": {},
   "source": [
    "### The Rarefaction Transform\n",
    "A rarefaction transform rarefies our experiment to a desired cutoff.\n",
    "All samples below this cutoff are discarded from the counts dataframe."
   ]
  },
  {
   "cell_type": "code",
   "execution_count": 6,
   "metadata": {
    "collapsed": false
   },
   "outputs": [
    {
     "data": {
      "text/html": [
       "<div>\n",
       "<table border=\"1\" class=\"dataframe\">\n",
       "  <thead>\n",
       "    <tr style=\"text-align: right;\">\n",
       "      <th></th>\n",
       "      <th>sample1</th>\n",
       "      <th>sample2</th>\n",
       "      <th>1234</th>\n",
       "      <th>9876</th>\n",
       "    </tr>\n",
       "  </thead>\n",
       "  <tbody>\n",
       "    <tr>\n",
       "      <th>2f328e48f4252bbade0dd7f66b0d5bf1b09617dd</th>\n",
       "      <td>4</td>\n",
       "      <td>0</td>\n",
       "      <td>0</td>\n",
       "      <td>90000</td>\n",
       "    </tr>\n",
       "    <tr>\n",
       "      <th>8f52abc02aed2ce6c63be04570a7e609f9cdac5f</th>\n",
       "      <td>23</td>\n",
       "      <td>0</td>\n",
       "      <td>89999</td>\n",
       "      <td>0</td>\n",
       "    </tr>\n",
       "    <tr>\n",
       "      <th>ae0ddda08027454fdb5db77c96b94691b8274cdd</th>\n",
       "      <td>89973</td>\n",
       "      <td>90000</td>\n",
       "      <td>1</td>\n",
       "      <td>0</td>\n",
       "    </tr>\n",
       "  </tbody>\n",
       "</table>\n",
       "</div>"
      ],
      "text/plain": [
       "                                          sample1  sample2   1234   9876\n",
       "2f328e48f4252bbade0dd7f66b0d5bf1b09617dd        4        0      0  90000\n",
       "8f52abc02aed2ce6c63be04570a7e609f9cdac5f       23        0  89999      0\n",
       "ae0ddda08027454fdb5db77c96b94691b8274cdd    89973    90000      1      0"
      ]
     },
     "execution_count": 6,
     "metadata": {},
     "output_type": "execute_result"
    }
   ],
   "source": [
    "from omicexperiment.transforms.general import Rarefaction\n",
    "exp.apply(Rarefaction(90000)).counts_df"
   ]
  },
  {
   "cell_type": "code",
   "execution_count": 7,
   "metadata": {
    "collapsed": false
   },
   "outputs": [
    {
     "data": {
      "text/html": [
       "<div>\n",
       "<table border=\"1\" class=\"dataframe\">\n",
       "  <thead>\n",
       "    <tr style=\"text-align: right;\">\n",
       "      <th></th>\n",
       "      <th>sample1</th>\n",
       "      <th>sample2</th>\n",
       "      <th>1234</th>\n",
       "      <th>9876</th>\n",
       "    </tr>\n",
       "  </thead>\n",
       "  <tbody>\n",
       "    <tr>\n",
       "      <th>2f328e48f4252bbade0dd7f66b0d5bf1b09617dd</th>\n",
       "      <td>2</td>\n",
       "      <td>0</td>\n",
       "      <td>0</td>\n",
       "      <td>90000</td>\n",
       "    </tr>\n",
       "    <tr>\n",
       "      <th>8f52abc02aed2ce6c63be04570a7e609f9cdac5f</th>\n",
       "      <td>17</td>\n",
       "      <td>0</td>\n",
       "      <td>89999</td>\n",
       "      <td>0</td>\n",
       "    </tr>\n",
       "    <tr>\n",
       "      <th>ae0ddda08027454fdb5db77c96b94691b8274cdd</th>\n",
       "      <td>89981</td>\n",
       "      <td>90000</td>\n",
       "      <td>1</td>\n",
       "      <td>0</td>\n",
       "    </tr>\n",
       "  </tbody>\n",
       "</table>\n",
       "</div>"
      ],
      "text/plain": [
       "                                          sample1  sample2   1234   9876\n",
       "2f328e48f4252bbade0dd7f66b0d5bf1b09617dd        2        0      0  90000\n",
       "8f52abc02aed2ce6c63be04570a7e609f9cdac5f       17        0  89999      0\n",
       "ae0ddda08027454fdb5db77c96b94691b8274cdd    89981    90000      1      0"
      ]
     },
     "execution_count": 7,
     "metadata": {},
     "output_type": "execute_result"
    }
   ],
   "source": [
    "#a shorthand on the MicrobiomeExperiment object -- the rarefy method\n",
    "exp.rarefy(90000).counts_df"
   ]
  },
  {
   "cell_type": "markdown",
   "metadata": {},
   "source": [
    "As previously explained, the rarefy function is rather simplistic at this stage. It may need the implementation of an extra parameter which allows taking the number of randomizations to run, and produce a final rarefied dataframe which is the average of all the randomized ones.\n",
    "\n",
    "Example API:\n",
    "\n",
    "    exp.apply(Rarefaction(n=90000, num_randomizations=50)).counts_df\n",
    "\n",
    "(TODO)"
   ]
  },
  {
   "cell_type": "markdown",
   "metadata": {},
   "source": [
    "### Applying a list of Transforms in sequence\n",
    "Passing in a list which contains transforms objects/classes chains the transforms in sequence on our experiment."
   ]
  },
  {
   "cell_type": "code",
   "execution_count": 8,
   "metadata": {
    "collapsed": false
   },
   "outputs": [
    {
     "data": {
      "text/html": [
       "<div>\n",
       "<table border=\"1\" class=\"dataframe\">\n",
       "  <thead>\n",
       "    <tr style=\"text-align: right;\">\n",
       "      <th></th>\n",
       "      <th>sample1</th>\n",
       "      <th>sample2</th>\n",
       "      <th>1234</th>\n",
       "      <th>9876</th>\n",
       "    </tr>\n",
       "  </thead>\n",
       "  <tbody>\n",
       "    <tr>\n",
       "      <th>2f328e48f4252bbade0dd7f66b0d5bf1b09617dd</th>\n",
       "      <td>0.004444</td>\n",
       "      <td>0</td>\n",
       "      <td>0.000000</td>\n",
       "      <td>100</td>\n",
       "    </tr>\n",
       "    <tr>\n",
       "      <th>8f52abc02aed2ce6c63be04570a7e609f9cdac5f</th>\n",
       "      <td>0.023333</td>\n",
       "      <td>0</td>\n",
       "      <td>99.998889</td>\n",
       "      <td>0</td>\n",
       "    </tr>\n",
       "    <tr>\n",
       "      <th>ae0ddda08027454fdb5db77c96b94691b8274cdd</th>\n",
       "      <td>99.972222</td>\n",
       "      <td>100</td>\n",
       "      <td>0.001111</td>\n",
       "      <td>0</td>\n",
       "    </tr>\n",
       "  </tbody>\n",
       "</table>\n",
       "</div>"
      ],
      "text/plain": [
       "                                            sample1  sample2       1234  9876\n",
       "2f328e48f4252bbade0dd7f66b0d5bf1b09617dd   0.004444        0   0.000000   100\n",
       "8f52abc02aed2ce6c63be04570a7e609f9cdac5f   0.023333        0  99.998889     0\n",
       "ae0ddda08027454fdb5db77c96b94691b8274cdd  99.972222      100   0.001111     0"
      ]
     },
     "execution_count": 8,
     "metadata": {},
     "output_type": "execute_result"
    }
   ],
   "source": [
    "exp.apply([Rarefaction(90000), RelativeAbundance]).counts_df"
   ]
  },
  {
   "cell_type": "markdown",
   "metadata": {},
   "source": [
    "Another very basic transform is the number of unique observations in each sample.\n",
    "This is essentially the _\"Number of Observed OTUs\"_, or when used for species, can be described as _\"species richness\"_."
   ]
  },
  {
   "cell_type": "code",
   "execution_count": 9,
   "metadata": {
    "collapsed": false
   },
   "outputs": [
    {
     "data": {
      "text/html": [
       "<div>\n",
       "<table border=\"1\" class=\"dataframe\">\n",
       "  <thead>\n",
       "    <tr style=\"text-align: right;\">\n",
       "      <th></th>\n",
       "      <th>sample0</th>\n",
       "      <th>sample1</th>\n",
       "      <th>sample2</th>\n",
       "      <th>1234</th>\n",
       "      <th>9876</th>\n",
       "    </tr>\n",
       "  </thead>\n",
       "  <tbody>\n",
       "    <tr>\n",
       "      <th>number_unique_obs</th>\n",
       "      <td>1</td>\n",
       "      <td>3</td>\n",
       "      <td>1</td>\n",
       "      <td>2</td>\n",
       "      <td>2</td>\n",
       "    </tr>\n",
       "  </tbody>\n",
       "</table>\n",
       "</div>"
      ],
      "text/plain": [
       "                   sample0  sample1  sample2  1234  9876\n",
       "number_unique_obs        1        3        1     2     2"
      ]
     },
     "execution_count": 9,
     "metadata": {},
     "output_type": "execute_result"
    }
   ],
   "source": [
    "#%matplotlib inline\n",
    "from omicexperiment.transforms.general import NumberUniqueObs\n",
    "exp.apply(NumberUniqueObs).counts_df"
   ]
  },
  {
   "cell_type": "markdown",
   "metadata": {},
   "source": [
    "*Note how when we implement a Transform, we try to follow the convention of samples being in the columns rather than the rows (Take a look at the source code!)*"
   ]
  },
  {
   "cell_type": "markdown",
   "metadata": {},
   "source": [
    "### Applying a numpy aggregate function\n",
    "Passing in a function object (for example, numpy's sum or mean functions) to apply can be though of as equivalent to the following apply operation on the counts_df:\n",
    "\n",
    "    DataFrame( experiment.counts_df.apply(func) )\n",
    "    \n",
    "Also available is the axis parameter to pass to the apply function of the counts_df (Default axis=0 i.e. columns):\n",
    "\n",
    "    DataFrame( experiment.counts_df.apply(func, axis=axis) )"
   ]
  },
  {
   "cell_type": "code",
   "execution_count": 10,
   "metadata": {
    "collapsed": false
   },
   "outputs": [
    {
     "data": {
      "text/html": [
       "<div>\n",
       "<table border=\"1\" class=\"dataframe\">\n",
       "  <thead>\n",
       "    <tr style=\"text-align: right;\">\n",
       "      <th></th>\n",
       "      <th>sample0</th>\n",
       "      <th>sample1</th>\n",
       "      <th>sample2</th>\n",
       "      <th>1234</th>\n",
       "      <th>9876</th>\n",
       "    </tr>\n",
       "  </thead>\n",
       "  <tbody>\n",
       "    <tr>\n",
       "      <th>0</th>\n",
       "      <td>17374</td>\n",
       "      <td>18386.8</td>\n",
       "      <td>20085.6</td>\n",
       "      <td>26628</td>\n",
       "      <td>45174.6</td>\n",
       "    </tr>\n",
       "  </tbody>\n",
       "</table>\n",
       "</div>"
      ],
      "text/plain": [
       "   sample0  sample1  sample2   1234     9876\n",
       "0    17374  18386.8  20085.6  26628  45174.6"
      ]
     },
     "execution_count": 10,
     "metadata": {},
     "output_type": "execute_result"
    }
   ],
   "source": [
    "import numpy as np\n",
    "exp.apply(np.mean).counts_df\n",
    "#Note that a transpose() is done on the DataFrame in the inside of\n",
    "#the apply method, such that sample names remain as columns."
   ]
  },
  {
   "cell_type": "markdown",
   "metadata": {},
   "source": [
    "## Rarefaction curves are implemented as a transform\n",
    "Rarefaction curves is a very common transformation for microbiome amplicon studies and is utilized widely in the software package qiime.\n",
    "\n",
    "In omicexperiment, it is implemented as a transform which takes three parameters as follows:\n",
    "1. The rarefaction curve cutoff level. (Any sample with lower count than this cutoff will be dropped.)\n",
    "2. The 'step': from 0 to the cutoff. For example, a cutoff value of 1000 and a step of 100 will rarefy at levels 0,100,200,300...,900,1000.\n",
    "3. The Transform to apply: the transform will be applied at each rarefaction level\n",
    "\n",
    "The RarefactionCurve Transform applies runs the transformation at each level until the cutoff, thus producing data points for the rarefaction curves.\n",
    "\n",
    "The end result is demonstrated below. In the example below, we run the \"Number of Unique Observations Transform\" (i.e. observed_otus, or richness if species) on each level of the curve."
   ]
  },
  {
   "cell_type": "code",
   "execution_count": 11,
   "metadata": {
    "collapsed": false
   },
   "outputs": [],
   "source": [
    "from omicexperiment.transforms.general import RarefactionCurve\n",
    "curve_df = exp.apply(RarefactionCurve(10000, 1000, NumberUniqueObs)).counts_df"
   ]
  },
  {
   "cell_type": "code",
   "execution_count": 12,
   "metadata": {
    "collapsed": false
   },
   "outputs": [
    {
     "data": {
      "text/html": [
       "<div>\n",
       "<table border=\"1\" class=\"dataframe\">\n",
       "  <thead>\n",
       "    <tr style=\"text-align: right;\">\n",
       "      <th></th>\n",
       "      <th>sample0</th>\n",
       "      <th>sample1</th>\n",
       "      <th>sample2</th>\n",
       "      <th>1234</th>\n",
       "      <th>9876</th>\n",
       "    </tr>\n",
       "  </thead>\n",
       "  <tbody>\n",
       "    <tr>\n",
       "      <th>0</th>\n",
       "      <td>0</td>\n",
       "      <td>0</td>\n",
       "      <td>0</td>\n",
       "      <td>0</td>\n",
       "      <td>0</td>\n",
       "    </tr>\n",
       "    <tr>\n",
       "      <th>1000</th>\n",
       "      <td>1</td>\n",
       "      <td>1</td>\n",
       "      <td>1</td>\n",
       "      <td>1</td>\n",
       "      <td>1</td>\n",
       "    </tr>\n",
       "    <tr>\n",
       "      <th>2000</th>\n",
       "      <td>1</td>\n",
       "      <td>1</td>\n",
       "      <td>1</td>\n",
       "      <td>1</td>\n",
       "      <td>1</td>\n",
       "    </tr>\n",
       "    <tr>\n",
       "      <th>3000</th>\n",
       "      <td>1</td>\n",
       "      <td>2</td>\n",
       "      <td>1</td>\n",
       "      <td>2</td>\n",
       "      <td>1</td>\n",
       "    </tr>\n",
       "    <tr>\n",
       "      <th>4000</th>\n",
       "      <td>1</td>\n",
       "      <td>2</td>\n",
       "      <td>1</td>\n",
       "      <td>1</td>\n",
       "      <td>1</td>\n",
       "    </tr>\n",
       "    <tr>\n",
       "      <th>5000</th>\n",
       "      <td>1</td>\n",
       "      <td>2</td>\n",
       "      <td>1</td>\n",
       "      <td>1</td>\n",
       "      <td>1</td>\n",
       "    </tr>\n",
       "    <tr>\n",
       "      <th>6000</th>\n",
       "      <td>1</td>\n",
       "      <td>2</td>\n",
       "      <td>1</td>\n",
       "      <td>1</td>\n",
       "      <td>1</td>\n",
       "    </tr>\n",
       "    <tr>\n",
       "      <th>7000</th>\n",
       "      <td>1</td>\n",
       "      <td>2</td>\n",
       "      <td>1</td>\n",
       "      <td>1</td>\n",
       "      <td>1</td>\n",
       "    </tr>\n",
       "    <tr>\n",
       "      <th>8000</th>\n",
       "      <td>1</td>\n",
       "      <td>2</td>\n",
       "      <td>1</td>\n",
       "      <td>1</td>\n",
       "      <td>1</td>\n",
       "    </tr>\n",
       "    <tr>\n",
       "      <th>9000</th>\n",
       "      <td>1</td>\n",
       "      <td>3</td>\n",
       "      <td>1</td>\n",
       "      <td>1</td>\n",
       "      <td>1</td>\n",
       "    </tr>\n",
       "  </tbody>\n",
       "</table>\n",
       "</div>"
      ],
      "text/plain": [
       "      sample0  sample1  sample2  1234  9876\n",
       "0           0        0        0     0     0\n",
       "1000        1        1        1     1     1\n",
       "2000        1        1        1     1     1\n",
       "3000        1        2        1     2     1\n",
       "4000        1        2        1     1     1\n",
       "5000        1        2        1     1     1\n",
       "6000        1        2        1     1     1\n",
       "7000        1        2        1     1     1\n",
       "8000        1        2        1     1     1\n",
       "9000        1        3        1     1     1"
      ]
     },
     "execution_count": 12,
     "metadata": {},
     "output_type": "execute_result"
    }
   ],
   "source": [
    "curve_df"
   ]
  },
  {
   "cell_type": "markdown",
   "metadata": {},
   "source": [
    "For the sake of fun (and science!), you will find that we can very easily, using minimal code, plot this dataframe as an actual rarefaction curves plot."
   ]
  },
  {
   "cell_type": "code",
   "execution_count": 13,
   "metadata": {
    "collapsed": false
   },
   "outputs": [
    {
     "data": {
      "image/png": "[encoded data removed]",
      "text/plain": [
       "<matplotlib.figure.Figure at 0x7f5a1966f510>"
      ]
     },
     "metadata": {},
     "output_type": "display_data"
    }
   ],
   "source": [
    "%matplotlib inline\n",
    "import matplotlib.pyplot as plt\n",
    "for sample in curve_df:\n",
    "    plt.plot(curve_df.index, curve_df['sample0'])\n",
    "    plt.plot(curve_df.index, curve_df['sample1'])"
   ]
  },
  {
   "cell_type": "markdown",
   "metadata": {},
   "source": [
    "Not a very elegant curve for this example dataset, but you get the point!"
   ]
  },
  {
   "cell_type": "markdown",
   "metadata": {},
   "source": [
    "### Taxonomy transforms (TODO)\n",
    "Here, we will be implementing various taxonomy-related transforms.\n",
    "\n",
    "The most important of these are **diversity functions**.\n",
    "\n",
    "Most likely, this is going to depend on scikit-bio diversity package. (see http://scikit-bio.org/docs/latest/diversity.html)\n",
    "\n",
    "The API can thus be imagined, a diversity function implemented as a Transform that can be passed to the RarefactionCurve transform allows easy charting of ."
   ]
  }
 ],
 "metadata": {
  "kernelspec": {
   "display_name": "Python 2",
   "language": "python",
   "name": "python2"
  },
  "language_info": {
   "codemirror_mode": {
    "name": "ipython",
    "version": 2
   },
   "file_extension": ".py",
   "mimetype": "text/x-python",
   "name": "python",
   "nbconvert_exporter": "python",
   "pygments_lexer": "ipython2",
   "version": "2.7.10"
  }
 },
 "nbformat": 4,
 "nbformat_minor": 0
}
