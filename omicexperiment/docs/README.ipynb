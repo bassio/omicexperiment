{
 "cells": [
  {
   "cell_type": "markdown",
   "metadata": {},
   "source": [
    "# The *omicexperiment* python package\n",
    "The omicexperiment package has the ultimate goal of providing a pleasant API for rapid analysis of 'omic experiments' in an interactive environment.\n",
    "\n",
    "The R bioinformatics community has already provided similar implementations for similar functionality.\n",
    "Examples include DESeqDataSet (from the package DeSeq2), MRExperiment (from the package metagenomeSeq), phyloseq-class (from the package phyloseq).\n",
    "To my knowledge, there exists no similar powerful functionality available to users of python.\n",
    "\n",
    "The philosophy of this package is to build upon solid foundations of the python scientific stack and try not to re-invent the wheel. Packages such as numpy and pandas are powerful optimized libraries in dealing with matrix and tabular data, respectively. This package's backend thus consists almost entirely of pandas DataFrames and pandas APIs. \n",
    "\n",
    "## Example code\n",
    "\n",
    "    from omicexperiment.experiment.microbiome import MicrobiomeExperiment\n",
    "    from omicexperiment.transforms.filters import Sample, Taxonomy\n",
    "    \n",
    "    mapping = \"example_map.tsv\"\n",
    "    biom = \"example_fungal.biom\"\n",
    "    tax = \"blast_tax_assignments.txt\"\n",
    "    \n",
    "    #our Experiment object\n",
    "    exp = MicrobiomeExperiment(biom, mapping,tax)\n",
    "\n",
    "    #include only samples with more than 90000 counts\n",
    "    exp.dapply(Sample.count > 90000)\n",
    "    \n",
    "    ##collapse the OTUs in the _data_ DataFrame to genus level assignment\n",
    "    exp.dapply(Taxonomy.groupby('genus')) #any taxonomic rank can be passed\n",
    "    \n",
    "\n",
    "## Installation\n",
    "Just clone the git repository.\n",
    "In the future, the package will be uploaded to PyPi and will be pip-installable.\n",
    "\n",
    "\n",
    "## License\n",
    "This package is released as open-source, under a BSD License. Please see COPYING.txt.\n",
    "\n",
    "## Documentation\n",
    "Please see the docs file associated. \n",
    "\n",
    "\n",
    "## Contributing and use in your research\n",
    "Please be advised that at this stage, this package has been developed as a quick coding hack over the course of one week. Even basic testing is still not implemented so be careful. Contributors are welcome to improve the software.\n",
    "Nowadays, I expect the package to continue growing as I add functionality and improvements as long as I need it in my own research."
   ]
  },
  {
   "cell_type": "code",
   "execution_count": null,
   "metadata": {
    "collapsed": true
   },
   "outputs": [],
   "source": []
  }
 ],
 "metadata": {
  "kernelspec": {
   "display_name": "Python 2",
   "language": "python",
   "name": "python2"
  },
  "language_info": {
   "codemirror_mode": {
    "name": "ipython",
    "version": 2
   },
   "file_extension": ".py",
   "mimetype": "text/x-python",
   "name": "python",
   "nbconvert_exporter": "python",
   "pygments_lexer": "ipython2",
   "version": "2.7.10"
  }
 },
 "nbformat": 4,
 "nbformat_minor": 0
}
