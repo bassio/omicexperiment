{
 "cells": [
  {
   "cell_type": "markdown",
   "metadata": {},
   "source": [
    "# The *omicexperiment* python package\n",
    "The omicexperiment package is an open-source, BSD-licensed, Python 3 package for analysis of dataframes of 'omic experiments', built upon the solid foundations of the Python scientific stack.\n",
    "\n",
    "The omicexperiment package has the goal of providing a pleasant API for *rapid* analysis of 'omic experiments' in interactive environments.\n",
    "\n",
    "The R bioinformatics community has already provided similar implementations for similar functionality.\n",
    "Examples include DESeqDataSet (from the package DeSeq2), MRExperiment (from the package metagenomeSeq), phyloseq-class (from the package phyloseq).\n",
    "To my knowledge, there exists no similar powerful functionality available to users of python.\n",
    "\n",
    "The philosophy of this package is to build upon solid foundations of the python scientific stack and try not to re-invent the wheel. Packages such as numpy and pandas are powerful optimized libraries in dealing with matrix and tabular data, respectively. This package's backend thus consists almost entirely of pandas DataFrames and pandas APIs. \n",
    "\n",
    "## Example code\n",
    "\n",
    "    from omicexperiment.experiment.microbiome import MicrobiomeExperiment\n",
    "    from omicexperiment.filters import Sample, Taxonomy\n",
    "    \n",
    "    mapping = \"example_map.tsv\"\n",
    "    biom = \"example_fungal.biom\"\n",
    "    tax = \"blast_tax_assignments.txt\"\n",
    "    \n",
    "    #our Experiment object\n",
    "    exp = MicrobiomeExperiment(biom, mapping,tax)\n",
    "\n",
    "    #include only samples with more than 90000 counts\n",
    "    exp.filter(Sample.count > 90000)\n",
    "    \n",
    "    ##collapse the OTUs in the _data_ DataFrame to genus level assignment\n",
    "    exp.filter(Taxonomy.groupby('genus')) #any taxonomic rank can be passed\n",
    "    \n",
    "\n",
    "## Installation\n",
    "Just clone the git repository.\n",
    "Hopefully very shortly, the package will be uploaded to PyPi and will be pip-installable.\n",
    "\n",
    "\n",
    "## License\n",
    "This package is released as open-source, under a BSD License. Please see COPYING.txt.\n",
    "\n",
    "## Documentation\n",
    "Please see the docs folder in the package, it contains Jupyter notebooks that runs you through most of the current package functionality. \n",
    "\n",
    "## Acknowledgements\n",
    "Thank you to all the great python bioinformatics and data science community for releasing their code as open source.\n",
    "\n",
    "## Contributing and use in your research\n",
    "Please be advised that at this stage, this package is still alpha software. Testing is still not implemented so be careful. But if you are interested in contributing to this project, please contact. Contributors are welcome to improve the software.\n",
    "Nowadays, I expect the package to continue growing slowly as I add functionality and improvements as long as I need it in my own research. I will be initially focusing on developing the MicrobiomeExperiment part."
   ]
  }
 ],
 "metadata": {
  "kernelspec": {
   "display_name": "Python 3",
   "language": "python",
   "name": "python3"
  },
  "language_info": {
   "codemirror_mode": {
    "name": "ipython",
    "version": 3
   },
   "file_extension": ".py",
   "mimetype": "text/x-python",
   "name": "python",
   "nbconvert_exporter": "python",
   "pygments_lexer": "ipython3",
   "version": "3.5.0+"
  }
 },
 "nbformat": 4,
 "nbformat_minor": 0
}
