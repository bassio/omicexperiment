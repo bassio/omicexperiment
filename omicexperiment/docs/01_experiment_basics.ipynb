{
 "cells": [
  {
   "cell_type": "markdown",
   "metadata": {},
   "source": [
    "# The Experiment object\n",
    "The OmicExperiment object is the heart of the omicexperiment package.\n",
    "It has the ultimate goal of providing a pleasant API for rapid analysis of 'omic experiments' in an interactive environment.\n",
    "\n",
    "The R bioinformatics community has already provided similar implementations for similar functionality.\n",
    "Examples include DESeqDataSet (from the package DeSeq2), MRExperiment (from the package metagenomeSeq), phyloseq-class (from the package phyloseq).\n",
    "To my knowledge, there exists no similar powerful functionality available to users of python.\n",
    "\n",
    "Powerful manipulation of large datasets in comparative omic experiment (and these are numerous, and include amplicon microbiome studies, microbial metagenomics, transcriptomics/RNA-Seq, metabolomics, and proteomics, and microarray). According to the Biological Observation Matrix (BIOM) format: \"they all share an underlying, core data type: the “sample by observation contingency table”.\n",
    "\n",
    "The OmicExperiment object (perhaps intended to be subclassed for each specific use-case of the above) is the centrepiece of this functionality.\n",
    "\n",
    "The philosophy of this package is to build upon solid foundations of the python scientific stack and try not to re-invent the wheel.\n",
    "(The \"re-invention of the wheel\" is a significant disadvantage of the initial versions of the biomformat package, which will perhaps be corrected in future versions, or perhaps be superseded by scikit-bio, which aims to integrate more with mainstream scientific python libraries.)\n",
    "\n",
    "Packages such as numpy and pandas are powerful optimized libraries in dealing with matrix and tabular data, respectively. This package's main dependency is pandas APIs.\n",
    "\n",
    "As of this date, I have started with the implementation of the MicrbiomeExperiment subclass of the parent OmicExperiment class, as this is what I have been recently working on in my research.\n",
    "\n",
    "Clever scientific interactive computing environments are an excellent way to apply and demonstrate the analysis of scientific datasets. The Jupyter notebook is perhaps the prime example of such an environment, perfectly suited for rapid iteration and exploratory analysis, as well as documentation and literate programming."
   ]
  },
  {
   "cell_type": "markdown",
   "metadata": {},
   "source": [
    "## Instantiating a MicrobiomeExperiment object\n",
    "Let us start by showing how we start an experiment; this time, a microbiome experiment."
   ]
  },
  {
   "cell_type": "code",
   "execution_count": 1,
   "metadata": {
    "collapsed": true
   },
   "outputs": [],
   "source": [
    "%load_ext autoreload\n",
    "%autoreload 2\n",
    "\n",
    "from omicexperiment.experiment.microbiome import MicrobiomeExperiment\n",
    "\n",
    "mapping = \"example_map.tsv\"\n",
    "biom = \"example_fungal.biom\"\n",
    "tax = \"blast_tax_assignments.txt\"\n",
    "\n",
    "#the MicrobiomeExperiment constructor currently needs three parameters\n",
    "exp = MicrobiomeExperiment(biom, mapping,tax)\n",
    "#the first parameter is the counts dataframe\n",
    "#the second parameter is the mapping dataframe\n",
    "#the third paramenter is the taxonomy dataframe"
   ]
  },
  {
   "cell_type": "markdown",
   "metadata": {
    "collapsed": false
   },
   "source": [
    "The parameters passed to MicrobiomeExperiment constructor could be:\n",
    "* pandas dataframes\n",
    "* a filepath (str) to a csv or tsv file\n",
    "* a filepath (str) to a biom file (in case of the counts dataframe)\n",
    "* a Table object from the biom python package (in case of the counts dataframe)\n",
    "* a filepath (str) to a Qiime taxonomy assignment txt file - other implementations will be provided in the future, with possible subclassing of MicrobiomeDataFrame into a QiimeExperiment to provide optimal and specific Qiime functionality, while allowing integration with other pipeline software conventions"
   ]
  },
  {
   "cell_type": "markdown",
   "metadata": {},
   "source": [
    "## The Counts DataFrame\n",
    "The counts dataframe (attribute counts_df) is the central dataframe of the Experiment object. It is what we refer to as the frequency table (OTU table in microbiome studies, etc.).\n",
    "\n",
    "counts_df always has the 'observations' (or OTUs in microbiome OTU tables) as the rows, so that the observatin names/ids constitute the index of the dataframe.\n",
    "\n",
    "On the other hand, the samples always constitute the sample names."
   ]
  },
  {
   "cell_type": "code",
   "execution_count": 2,
   "metadata": {
    "collapsed": false
   },
   "outputs": [
    {
     "data": {
      "text/html": [
       "<div>\n",
       "<table border=\"1\" class=\"dataframe\">\n",
       "  <thead>\n",
       "    <tr style=\"text-align: right;\">\n",
       "      <th></th>\n",
       "      <th>sample0</th>\n",
       "      <th>sample1</th>\n",
       "      <th>sample2</th>\n",
       "      <th>1234</th>\n",
       "      <th>9876</th>\n",
       "    </tr>\n",
       "  </thead>\n",
       "  <tbody>\n",
       "    <tr>\n",
       "      <th>2f328e48f4252bbade0dd7f66b0d5bf1b09617dd</th>\n",
       "      <td>0</td>\n",
       "      <td>2</td>\n",
       "      <td>0</td>\n",
       "      <td>0</td>\n",
       "      <td>225872</td>\n",
       "    </tr>\n",
       "    <tr>\n",
       "      <th>ae0ddda08027454fdb5db77c96b94691b8274cdd</th>\n",
       "      <td>0</td>\n",
       "      <td>91911</td>\n",
       "      <td>100428</td>\n",
       "      <td>2</td>\n",
       "      <td>1</td>\n",
       "    </tr>\n",
       "    <tr>\n",
       "      <th>8f52abc02aed2ce6c63be04570a7e609f9cdac5f</th>\n",
       "      <td>0</td>\n",
       "      <td>21</td>\n",
       "      <td>0</td>\n",
       "      <td>133138</td>\n",
       "      <td>0</td>\n",
       "    </tr>\n",
       "    <tr>\n",
       "      <th>3cb3c2347cdbe128b645e432f4dcbca702e0e8e3</th>\n",
       "      <td>0</td>\n",
       "      <td>0</td>\n",
       "      <td>0</td>\n",
       "      <td>0</td>\n",
       "      <td>0</td>\n",
       "    </tr>\n",
       "    <tr>\n",
       "      <th>8e9a3b9a9d91e86f21da1bd57b8ae4486c78bbe0</th>\n",
       "      <td>86870</td>\n",
       "      <td>0</td>\n",
       "      <td>0</td>\n",
       "      <td>0</td>\n",
       "      <td>0</td>\n",
       "    </tr>\n",
       "  </tbody>\n",
       "</table>\n",
       "</div>"
      ],
      "text/plain": [
       "                                          sample0  sample1  sample2    1234  \\\n",
       "2f328e48f4252bbade0dd7f66b0d5bf1b09617dd        0        2        0       0   \n",
       "ae0ddda08027454fdb5db77c96b94691b8274cdd        0    91911   100428       2   \n",
       "8f52abc02aed2ce6c63be04570a7e609f9cdac5f        0       21        0  133138   \n",
       "3cb3c2347cdbe128b645e432f4dcbca702e0e8e3        0        0        0       0   \n",
       "8e9a3b9a9d91e86f21da1bd57b8ae4486c78bbe0    86870        0        0       0   \n",
       "\n",
       "                                            9876  \n",
       "2f328e48f4252bbade0dd7f66b0d5bf1b09617dd  225872  \n",
       "ae0ddda08027454fdb5db77c96b94691b8274cdd       1  \n",
       "8f52abc02aed2ce6c63be04570a7e609f9cdac5f       0  \n",
       "3cb3c2347cdbe128b645e432f4dcbca702e0e8e3       0  \n",
       "8e9a3b9a9d91e86f21da1bd57b8ae4486c78bbe0       0  "
      ]
     },
     "execution_count": 2,
     "metadata": {},
     "output_type": "execute_result"
    }
   ],
   "source": [
    "exp.counts_df"
   ]
  },
  {
   "cell_type": "markdown",
   "metadata": {},
   "source": [
    "### To list the samples:\n",
    "The sample names are easily obtained through looking at the columns of your counts_df.\n",
    "\n",
    "Alternatively, the Experiment object exposes a shorthand 'samples' attribute, which is essentially as\n",
    "list(exp.counts_df.columns)"
   ]
  },
  {
   "cell_type": "code",
   "execution_count": 3,
   "metadata": {
    "collapsed": false
   },
   "outputs": [
    {
     "name": "stdout",
     "output_type": "stream",
     "text": [
      "Index([u'sample0', u'sample1', u'sample2', u'1234', u'9876'], dtype='object')\n",
      "#OR\n",
      "[u'sample0', u'sample1', u'sample2', u'1234', u'9876']\n"
     ]
    }
   ],
   "source": [
    "print(exp.counts_df.columns)\n",
    "#\n",
    "print(\"#OR\")\n",
    "#\n",
    "print(exp.samples)"
   ]
  },
  {
   "cell_type": "markdown",
   "metadata": {},
   "source": [
    "### To list the observations:\n",
    "The observations are obtained through the index of the counts datframe.\n",
    "\n",
    "Alternatively, the Experiment object exposes a shorthand 'observations' attribute.\n",
    "\n",
    "In the example below, the otu ids are actually hashes, which allows easy deduplication (i.e. clustering at 100% level) whilst allowing for pooling of experiments. Following the excellent gist by Greg Caporaso https://gist.github.com/gregcaporaso/f3c042e5eb806349fa18 ."
   ]
  },
  {
   "cell_type": "code",
   "execution_count": 4,
   "metadata": {
    "collapsed": false
   },
   "outputs": [
    {
     "name": "stdout",
     "output_type": "stream",
     "text": [
      "Index([u'2f328e48f4252bbade0dd7f66b0d5bf1b09617dd',\n",
      "       u'ae0ddda08027454fdb5db77c96b94691b8274cdd',\n",
      "       u'8f52abc02aed2ce6c63be04570a7e609f9cdac5f',\n",
      "       u'3cb3c2347cdbe128b645e432f4dcbca702e0e8e3',\n",
      "       u'8e9a3b9a9d91e86f21da1bd57b8ae4486c78bbe0'],\n",
      "      dtype='object')\n",
      "#OR\n",
      "[u'2f328e48f4252bbade0dd7f66b0d5bf1b09617dd', u'ae0ddda08027454fdb5db77c96b94691b8274cdd', u'8f52abc02aed2ce6c63be04570a7e609f9cdac5f', u'3cb3c2347cdbe128b645e432f4dcbca702e0e8e3', u'8e9a3b9a9d91e86f21da1bd57b8ae4486c78bbe0']\n"
     ]
    }
   ],
   "source": [
    "print(exp.counts_df.index)\n",
    "#\n",
    "print(\"#OR\")\n",
    "#\n",
    "print(exp.observations)"
   ]
  },
  {
   "cell_type": "markdown",
   "metadata": {},
   "source": [
    "## The Mapping DataFrame\n",
    "The mapping dataframe (attribute mapping_df) is the dataframe which holds the sample metadata or \"phenotypic\" data.\n",
    "\n",
    "mapping_df has the sample ids as the rows, as to constitute the index of that dataframe.\n",
    "\n",
    "The columns contain the various variables of interest to our experiment.\n",
    "\n",
    "The mapping dataframe below is an example of a tsv file, formatted according to QIIME conventions. The first column also has the sample ids.\n",
    "You can see various variables in the columns. The group column, for example, contains the disease state of the samples in our example table. CRSwNP (i.e. Chronic Rhinosinusitis with Nasal Polyposis), CRSsNP (i.e. Chronic Rhinosinusitis sans Nasal Polyposis) and \"healthy\" controls."
   ]
  },
  {
   "cell_type": "code",
   "execution_count": 5,
   "metadata": {
    "collapsed": false
   },
   "outputs": [
    {
     "data": {
      "text/html": [
       "<div>\n",
       "<table border=\"1\" class=\"dataframe\">\n",
       "  <thead>\n",
       "    <tr style=\"text-align: right;\">\n",
       "      <th></th>\n",
       "      <th>#SampleID</th>\n",
       "      <th>BarcodeSequence</th>\n",
       "      <th>LinkerPrimerSequence</th>\n",
       "      <th>Description</th>\n",
       "      <th>patient_id</th>\n",
       "      <th>group</th>\n",
       "      <th>asthma</th>\n",
       "      <th>vas</th>\n",
       "      <th>amplicon_conc</th>\n",
       "    </tr>\n",
       "    <tr>\n",
       "      <th>#SampleID</th>\n",
       "      <th></th>\n",
       "      <th></th>\n",
       "      <th></th>\n",
       "      <th></th>\n",
       "      <th></th>\n",
       "      <th></th>\n",
       "      <th></th>\n",
       "      <th></th>\n",
       "      <th></th>\n",
       "    </tr>\n",
       "  </thead>\n",
       "  <tbody>\n",
       "    <tr>\n",
       "      <th>sample0</th>\n",
       "      <td>sample0</td>\n",
       "      <td>ACTGAGCG</td>\n",
       "      <td>AAAA</td>\n",
       "      <td>sample0</td>\n",
       "      <td>132</td>\n",
       "      <td>CRSsNP</td>\n",
       "      <td>0</td>\n",
       "      <td>49</td>\n",
       "      <td>4.3</td>\n",
       "    </tr>\n",
       "    <tr>\n",
       "      <th>sample1</th>\n",
       "      <td>sample1</td>\n",
       "      <td>AAGAGGCA</td>\n",
       "      <td>AAAA</td>\n",
       "      <td>sample1</td>\n",
       "      <td>315</td>\n",
       "      <td>CRSwNP</td>\n",
       "      <td>1</td>\n",
       "      <td>43</td>\n",
       "      <td>2.3</td>\n",
       "    </tr>\n",
       "    <tr>\n",
       "      <th>sample2</th>\n",
       "      <td>sample2</td>\n",
       "      <td>ATCTCAGG</td>\n",
       "      <td>AAAA</td>\n",
       "      <td>sample2</td>\n",
       "      <td>742</td>\n",
       "      <td>CRSsNP</td>\n",
       "      <td>0</td>\n",
       "      <td>23</td>\n",
       "      <td>3.2</td>\n",
       "    </tr>\n",
       "    <tr>\n",
       "      <th>1234</th>\n",
       "      <td>1234</td>\n",
       "      <td>ATGCGCAG</td>\n",
       "      <td>AAAA</td>\n",
       "      <td>1234</td>\n",
       "      <td>927</td>\n",
       "      <td>control</td>\n",
       "      <td>1</td>\n",
       "      <td>87</td>\n",
       "      <td>1.0</td>\n",
       "    </tr>\n",
       "    <tr>\n",
       "      <th>9876</th>\n",
       "      <td>9876</td>\n",
       "      <td>TAGGCATG</td>\n",
       "      <td>AAAA</td>\n",
       "      <td>9876</td>\n",
       "      <td>538</td>\n",
       "      <td>CRSwNP</td>\n",
       "      <td>1</td>\n",
       "      <td>12</td>\n",
       "      <td>1.3</td>\n",
       "    </tr>\n",
       "  </tbody>\n",
       "</table>\n",
       "</div>"
      ],
      "text/plain": [
       "          #SampleID BarcodeSequence LinkerPrimerSequence Description  \\\n",
       "#SampleID                                                              \n",
       "sample0     sample0        ACTGAGCG                 AAAA     sample0   \n",
       "sample1     sample1        AAGAGGCA                 AAAA     sample1   \n",
       "sample2     sample2        ATCTCAGG                 AAAA     sample2   \n",
       "1234           1234        ATGCGCAG                 AAAA        1234   \n",
       "9876           9876        TAGGCATG                 AAAA        9876   \n",
       "\n",
       "           patient_id    group  asthma  vas  amplicon_conc  \n",
       "#SampleID                                                   \n",
       "sample0           132   CRSsNP       0   49            4.3  \n",
       "sample1           315   CRSwNP       1   43            2.3  \n",
       "sample2           742   CRSsNP       0   23            3.2  \n",
       "1234              927  control       1   87            1.0  \n",
       "9876              538   CRSwNP       1   12            1.3  "
      ]
     },
     "execution_count": 5,
     "metadata": {},
     "output_type": "execute_result"
    }
   ],
   "source": [
    "exp.mapping_df"
   ]
  },
  {
   "cell_type": "code",
   "execution_count": 6,
   "metadata": {
    "collapsed": false
   },
   "outputs": [
    {
     "data": {
      "text/html": [
       "<div>\n",
       "<table border=\"1\" class=\"dataframe\">\n",
       "  <thead>\n",
       "    <tr style=\"text-align: right;\">\n",
       "      <th></th>\n",
       "      <th>#SampleID</th>\n",
       "      <th>BarcodeSequence</th>\n",
       "      <th>LinkerPrimerSequence</th>\n",
       "      <th>Description</th>\n",
       "      <th>patient_id</th>\n",
       "      <th>group</th>\n",
       "      <th>asthma</th>\n",
       "      <th>vas</th>\n",
       "      <th>amplicon_conc</th>\n",
       "    </tr>\n",
       "    <tr>\n",
       "      <th>#SampleID</th>\n",
       "      <th></th>\n",
       "      <th></th>\n",
       "      <th></th>\n",
       "      <th></th>\n",
       "      <th></th>\n",
       "      <th></th>\n",
       "      <th></th>\n",
       "      <th></th>\n",
       "      <th></th>\n",
       "    </tr>\n",
       "  </thead>\n",
       "  <tbody>\n",
       "    <tr>\n",
       "      <th>sample1</th>\n",
       "      <td>sample1</td>\n",
       "      <td>AAGAGGCA</td>\n",
       "      <td>AAAA</td>\n",
       "      <td>sample1</td>\n",
       "      <td>315</td>\n",
       "      <td>CRSwNP</td>\n",
       "      <td>1</td>\n",
       "      <td>43</td>\n",
       "      <td>2.3</td>\n",
       "    </tr>\n",
       "    <tr>\n",
       "      <th>9876</th>\n",
       "      <td>9876</td>\n",
       "      <td>TAGGCATG</td>\n",
       "      <td>AAAA</td>\n",
       "      <td>9876</td>\n",
       "      <td>538</td>\n",
       "      <td>CRSwNP</td>\n",
       "      <td>1</td>\n",
       "      <td>12</td>\n",
       "      <td>1.3</td>\n",
       "    </tr>\n",
       "  </tbody>\n",
       "</table>\n",
       "</div>"
      ],
      "text/plain": [
       "          #SampleID BarcodeSequence LinkerPrimerSequence Description  \\\n",
       "#SampleID                                                              \n",
       "sample1     sample1        AAGAGGCA                 AAAA     sample1   \n",
       "9876           9876        TAGGCATG                 AAAA        9876   \n",
       "\n",
       "           patient_id   group  asthma  vas  amplicon_conc  \n",
       "#SampleID                                                  \n",
       "sample1           315  CRSwNP       1   43            2.3  \n",
       "9876              538  CRSwNP       1   12            1.3  "
      ]
     },
     "execution_count": 6,
     "metadata": {},
     "output_type": "execute_result"
    }
   ],
   "source": [
    "#An example of filtering the mapping dataframe,\n",
    "#as per the excellent pandas indexing filtration feature\n",
    "exp.mapping_df[exp.mapping_df.group == 'CRSwNP']\n",
    "#Note:\n",
    "#similar operations are available on the counts and taxonomy dataframes, since\n",
    "#all of these are pandas DataFrame objects"
   ]
  },
  {
   "cell_type": "markdown",
   "metadata": {},
   "source": [
    "## The Taxonomy DataFrame\n",
    "The taxonomy dataframe (attribute taxonomy_df) is the dataframe which holds the taxonomy assignment information for our OTUs.\n",
    "\n",
    "This dataframe is only available on MicrobiomeExperiment results, and is not available on the base class Experiment.\n",
    "\n",
    "As of the time of writing this notebook, only the taxonomy assignment txt files according to the QIIME convention has been implemented. Otherwise, a manually constructed taxonomy pandas DataFrame object (e.g., manually imported from a different pipeline or program using your own in-house glue code) can be passed to the constructor of the Microbiome Experiment object.\n",
    "\n",
    "The taxonomy dataframe's index contains the \"OTU\" ids. The index object thus has the name 'otu'.\n",
    "\n",
    "The taxonomy dataframe below is such an example.\n",
    "\n",
    "In the module omicexperiment.taxonomy, the function tax_as_dataframe is responsible for opening up a taxonomy assignment txt file, formatted according to QIIME's conventions."
   ]
  },
  {
   "cell_type": "code",
   "execution_count": 7,
   "metadata": {
    "collapsed": false
   },
   "outputs": [
    {
     "data": {
      "text/html": [
       "<div>\n",
       "<table border=\"1\" class=\"dataframe\">\n",
       "  <thead>\n",
       "    <tr style=\"text-align: right;\">\n",
       "      <th></th>\n",
       "      <th>kingdom</th>\n",
       "      <th>phylum</th>\n",
       "      <th>class</th>\n",
       "      <th>order</th>\n",
       "      <th>family</th>\n",
       "      <th>genus</th>\n",
       "      <th>species</th>\n",
       "      <th>rank_resolution</th>\n",
       "      <th>tax</th>\n",
       "      <th>otu</th>\n",
       "    </tr>\n",
       "    <tr>\n",
       "      <th>otu</th>\n",
       "      <th></th>\n",
       "      <th></th>\n",
       "      <th></th>\n",
       "      <th></th>\n",
       "      <th></th>\n",
       "      <th></th>\n",
       "      <th></th>\n",
       "      <th></th>\n",
       "      <th></th>\n",
       "      <th></th>\n",
       "    </tr>\n",
       "  </thead>\n",
       "  <tbody>\n",
       "    <tr>\n",
       "      <th>2f328e48f4252bbade0dd7f66b0d5bf1b09617dd</th>\n",
       "      <td>k__Fungi</td>\n",
       "      <td>p__Ascomycota</td>\n",
       "      <td>c__Eurotiomycetes</td>\n",
       "      <td>o__Eurotiales</td>\n",
       "      <td>f__Trichocomaceae</td>\n",
       "      <td>g__Aspergillus</td>\n",
       "      <td>s__Aspergillus bombycis</td>\n",
       "      <td>species</td>\n",
       "      <td>k__Fungi;p__Ascomycota;c__Eurotiomycetes;o__Eu...</td>\n",
       "      <td>2f328e48f4252bbade0dd7f66b0d5bf1b09617dd</td>\n",
       "    </tr>\n",
       "    <tr>\n",
       "      <th>ae0ddda08027454fdb5db77c96b94691b8274cdd</th>\n",
       "      <td>k__Fungi</td>\n",
       "      <td>p__Ascomycota</td>\n",
       "      <td>c__Eurotiomycetes</td>\n",
       "      <td>o__Eurotiales</td>\n",
       "      <td>f__Trichocomaceae</td>\n",
       "      <td>g__Aspergillus</td>\n",
       "      <td>s__unidentified (g__Aspergillus)</td>\n",
       "      <td>genus</td>\n",
       "      <td>k__Fungi;p__Ascomycota;c__Eurotiomycetes;o__Eu...</td>\n",
       "      <td>ae0ddda08027454fdb5db77c96b94691b8274cdd</td>\n",
       "    </tr>\n",
       "    <tr>\n",
       "      <th>8f52abc02aed2ce6c63be04570a7e609f9cdac5f</th>\n",
       "      <td>k__Fungi</td>\n",
       "      <td>p__Ascomycota</td>\n",
       "      <td>c__Dothideomycetes</td>\n",
       "      <td>o__Pleosporales</td>\n",
       "      <td>f__Pleosporaceae</td>\n",
       "      <td>g__unidentified (f__Pleosporaceae)</td>\n",
       "      <td>s__unidentified (f__Pleosporaceae)</td>\n",
       "      <td>family</td>\n",
       "      <td>k__Fungi;p__Ascomycota;c__Dothideomycetes;o__P...</td>\n",
       "      <td>8f52abc02aed2ce6c63be04570a7e609f9cdac5f</td>\n",
       "    </tr>\n",
       "    <tr>\n",
       "      <th>3cb3c2347cdbe128b645e432f4dcbca702e0e8e3</th>\n",
       "      <td>k__Fungi</td>\n",
       "      <td>p__Ascomycota</td>\n",
       "      <td>c__Eurotiomycetes</td>\n",
       "      <td>o__Eurotiales</td>\n",
       "      <td>f__Trichocomaceae</td>\n",
       "      <td>g__Aspergillus</td>\n",
       "      <td>s__Aspergillus flavus</td>\n",
       "      <td>species</td>\n",
       "      <td>k__Fungi;p__Ascomycota;c__Eurotiomycetes;o__Eu...</td>\n",
       "      <td>3cb3c2347cdbe128b645e432f4dcbca702e0e8e3</td>\n",
       "    </tr>\n",
       "    <tr>\n",
       "      <th>8e9a3b9a9d91e86f21da1bd57b8ae4486c78bbe0</th>\n",
       "      <td>k__Fungi</td>\n",
       "      <td>p__Ascomycota</td>\n",
       "      <td>c__Dothideomycetes</td>\n",
       "      <td>o__Pleosporales</td>\n",
       "      <td>f__Pleosporaceae</td>\n",
       "      <td>g__Lewia</td>\n",
       "      <td>s__unidentified (g__Lewia)</td>\n",
       "      <td>genus</td>\n",
       "      <td>k__Fungi;p__Ascomycota;c__Dothideomycetes;o__P...</td>\n",
       "      <td>8e9a3b9a9d91e86f21da1bd57b8ae4486c78bbe0</td>\n",
       "    </tr>\n",
       "    <tr>\n",
       "      <th>54c89100c4ebc5b2fceebd3bd9a857fe07dfedb5</th>\n",
       "      <td>No blast hit</td>\n",
       "      <td>p__unidentified (Unassigned)</td>\n",
       "      <td>c__unidentified (Unassigned)</td>\n",
       "      <td>o__unidentified (Unassigned)</td>\n",
       "      <td>f__unidentified (Unassigned)</td>\n",
       "      <td>g__unidentified (Unassigned)</td>\n",
       "      <td>s__unidentified (Unassigned)</td>\n",
       "      <td>NaN</td>\n",
       "      <td>No blast hit</td>\n",
       "      <td>54c89100c4ebc5b2fceebd3bd9a857fe07dfedb5</td>\n",
       "    </tr>\n",
       "  </tbody>\n",
       "</table>\n",
       "</div>"
      ],
      "text/plain": [
       "                                               kingdom  \\\n",
       "otu                                                      \n",
       "2f328e48f4252bbade0dd7f66b0d5bf1b09617dd      k__Fungi   \n",
       "ae0ddda08027454fdb5db77c96b94691b8274cdd      k__Fungi   \n",
       "8f52abc02aed2ce6c63be04570a7e609f9cdac5f      k__Fungi   \n",
       "3cb3c2347cdbe128b645e432f4dcbca702e0e8e3      k__Fungi   \n",
       "8e9a3b9a9d91e86f21da1bd57b8ae4486c78bbe0      k__Fungi   \n",
       "54c89100c4ebc5b2fceebd3bd9a857fe07dfedb5  No blast hit   \n",
       "\n",
       "                                                                phylum  \\\n",
       "otu                                                                      \n",
       "2f328e48f4252bbade0dd7f66b0d5bf1b09617dd                 p__Ascomycota   \n",
       "ae0ddda08027454fdb5db77c96b94691b8274cdd                 p__Ascomycota   \n",
       "8f52abc02aed2ce6c63be04570a7e609f9cdac5f                 p__Ascomycota   \n",
       "3cb3c2347cdbe128b645e432f4dcbca702e0e8e3                 p__Ascomycota   \n",
       "8e9a3b9a9d91e86f21da1bd57b8ae4486c78bbe0                 p__Ascomycota   \n",
       "54c89100c4ebc5b2fceebd3bd9a857fe07dfedb5  p__unidentified (Unassigned)   \n",
       "\n",
       "                                                                 class  \\\n",
       "otu                                                                      \n",
       "2f328e48f4252bbade0dd7f66b0d5bf1b09617dd             c__Eurotiomycetes   \n",
       "ae0ddda08027454fdb5db77c96b94691b8274cdd             c__Eurotiomycetes   \n",
       "8f52abc02aed2ce6c63be04570a7e609f9cdac5f            c__Dothideomycetes   \n",
       "3cb3c2347cdbe128b645e432f4dcbca702e0e8e3             c__Eurotiomycetes   \n",
       "8e9a3b9a9d91e86f21da1bd57b8ae4486c78bbe0            c__Dothideomycetes   \n",
       "54c89100c4ebc5b2fceebd3bd9a857fe07dfedb5  c__unidentified (Unassigned)   \n",
       "\n",
       "                                                                 order  \\\n",
       "otu                                                                      \n",
       "2f328e48f4252bbade0dd7f66b0d5bf1b09617dd                 o__Eurotiales   \n",
       "ae0ddda08027454fdb5db77c96b94691b8274cdd                 o__Eurotiales   \n",
       "8f52abc02aed2ce6c63be04570a7e609f9cdac5f               o__Pleosporales   \n",
       "3cb3c2347cdbe128b645e432f4dcbca702e0e8e3                 o__Eurotiales   \n",
       "8e9a3b9a9d91e86f21da1bd57b8ae4486c78bbe0               o__Pleosporales   \n",
       "54c89100c4ebc5b2fceebd3bd9a857fe07dfedb5  o__unidentified (Unassigned)   \n",
       "\n",
       "                                                                family  \\\n",
       "otu                                                                      \n",
       "2f328e48f4252bbade0dd7f66b0d5bf1b09617dd             f__Trichocomaceae   \n",
       "ae0ddda08027454fdb5db77c96b94691b8274cdd             f__Trichocomaceae   \n",
       "8f52abc02aed2ce6c63be04570a7e609f9cdac5f              f__Pleosporaceae   \n",
       "3cb3c2347cdbe128b645e432f4dcbca702e0e8e3             f__Trichocomaceae   \n",
       "8e9a3b9a9d91e86f21da1bd57b8ae4486c78bbe0              f__Pleosporaceae   \n",
       "54c89100c4ebc5b2fceebd3bd9a857fe07dfedb5  f__unidentified (Unassigned)   \n",
       "\n",
       "                                                                       genus  \\\n",
       "otu                                                                            \n",
       "2f328e48f4252bbade0dd7f66b0d5bf1b09617dd                      g__Aspergillus   \n",
       "ae0ddda08027454fdb5db77c96b94691b8274cdd                      g__Aspergillus   \n",
       "8f52abc02aed2ce6c63be04570a7e609f9cdac5f  g__unidentified (f__Pleosporaceae)   \n",
       "3cb3c2347cdbe128b645e432f4dcbca702e0e8e3                      g__Aspergillus   \n",
       "8e9a3b9a9d91e86f21da1bd57b8ae4486c78bbe0                            g__Lewia   \n",
       "54c89100c4ebc5b2fceebd3bd9a857fe07dfedb5        g__unidentified (Unassigned)   \n",
       "\n",
       "                                                                     species  \\\n",
       "otu                                                                            \n",
       "2f328e48f4252bbade0dd7f66b0d5bf1b09617dd             s__Aspergillus bombycis   \n",
       "ae0ddda08027454fdb5db77c96b94691b8274cdd    s__unidentified (g__Aspergillus)   \n",
       "8f52abc02aed2ce6c63be04570a7e609f9cdac5f  s__unidentified (f__Pleosporaceae)   \n",
       "3cb3c2347cdbe128b645e432f4dcbca702e0e8e3               s__Aspergillus flavus   \n",
       "8e9a3b9a9d91e86f21da1bd57b8ae4486c78bbe0          s__unidentified (g__Lewia)   \n",
       "54c89100c4ebc5b2fceebd3bd9a857fe07dfedb5        s__unidentified (Unassigned)   \n",
       "\n",
       "                                         rank_resolution  \\\n",
       "otu                                                        \n",
       "2f328e48f4252bbade0dd7f66b0d5bf1b09617dd         species   \n",
       "ae0ddda08027454fdb5db77c96b94691b8274cdd           genus   \n",
       "8f52abc02aed2ce6c63be04570a7e609f9cdac5f          family   \n",
       "3cb3c2347cdbe128b645e432f4dcbca702e0e8e3         species   \n",
       "8e9a3b9a9d91e86f21da1bd57b8ae4486c78bbe0           genus   \n",
       "54c89100c4ebc5b2fceebd3bd9a857fe07dfedb5             NaN   \n",
       "\n",
       "                                                                                        tax  \\\n",
       "otu                                                                                           \n",
       "2f328e48f4252bbade0dd7f66b0d5bf1b09617dd  k__Fungi;p__Ascomycota;c__Eurotiomycetes;o__Eu...   \n",
       "ae0ddda08027454fdb5db77c96b94691b8274cdd  k__Fungi;p__Ascomycota;c__Eurotiomycetes;o__Eu...   \n",
       "8f52abc02aed2ce6c63be04570a7e609f9cdac5f  k__Fungi;p__Ascomycota;c__Dothideomycetes;o__P...   \n",
       "3cb3c2347cdbe128b645e432f4dcbca702e0e8e3  k__Fungi;p__Ascomycota;c__Eurotiomycetes;o__Eu...   \n",
       "8e9a3b9a9d91e86f21da1bd57b8ae4486c78bbe0  k__Fungi;p__Ascomycota;c__Dothideomycetes;o__P...   \n",
       "54c89100c4ebc5b2fceebd3bd9a857fe07dfedb5                                       No blast hit   \n",
       "\n",
       "                                                                               otu  \n",
       "otu                                                                                 \n",
       "2f328e48f4252bbade0dd7f66b0d5bf1b09617dd  2f328e48f4252bbade0dd7f66b0d5bf1b09617dd  \n",
       "ae0ddda08027454fdb5db77c96b94691b8274cdd  ae0ddda08027454fdb5db77c96b94691b8274cdd  \n",
       "8f52abc02aed2ce6c63be04570a7e609f9cdac5f  8f52abc02aed2ce6c63be04570a7e609f9cdac5f  \n",
       "3cb3c2347cdbe128b645e432f4dcbca702e0e8e3  3cb3c2347cdbe128b645e432f4dcbca702e0e8e3  \n",
       "8e9a3b9a9d91e86f21da1bd57b8ae4486c78bbe0  8e9a3b9a9d91e86f21da1bd57b8ae4486c78bbe0  \n",
       "54c89100c4ebc5b2fceebd3bd9a857fe07dfedb5  54c89100c4ebc5b2fceebd3bd9a857fe07dfedb5  "
      ]
     },
     "execution_count": 7,
     "metadata": {},
     "output_type": "execute_result"
    }
   ],
   "source": [
    "exp.taxonomy_df"
   ]
  },
  {
   "cell_type": "markdown",
   "metadata": {},
   "source": [
    "#### Taxonomic levels in taxonomy_df\n",
    "What you can notice in the taxonomy dataframe above, is that it automatically runs code to separate the taxonomic assignment to various taxonomic levels."
   ]
  },
  {
   "cell_type": "code",
   "execution_count": 8,
   "metadata": {
    "collapsed": false
   },
   "outputs": [
    {
     "name": "stdout",
     "output_type": "stream",
     "text": [
      "['kingdom', 'phylum', 'class', 'order', 'family', 'genus', 'species']\n"
     ]
    },
    {
     "data": {
      "text/plain": [
       "['kingdom',\n",
       " 'phylum',\n",
       " 'class',\n",
       " 'order',\n",
       " 'family',\n",
       " 'genus',\n",
       " 'species',\n",
       " 'rank_resolution',\n",
       " 'tax',\n",
       " 'otu']"
      ]
     },
     "execution_count": 8,
     "metadata": {},
     "output_type": "execute_result"
    }
   ],
   "source": [
    "#The taxonomic levels are as follows:\n",
    "from omicexperiment.taxonomy import TAX_RANKS\n",
    "print(TAX_RANKS)\n",
    "#The taxonomy dataframe also has extra columns\n",
    "list(exp.taxonomy_df.columns)"
   ]
  },
  {
   "cell_type": "markdown",
   "metadata": {},
   "source": [
    "The extra columns in the taxonomy dataframe include:\n",
    "* otu: the otu id (also in the index)\n",
    "* tax: the raw taxonomy assignment (includes all levels, conventionally separated by a semi-colon ';') \n",
    "* rank_resolution: the rank at highest resolution that the taxonomy assignment method was able to provide. For example, if assignment could not identify a 'species' level, this means that the highest resolution rank was 'genus'. Note that when the assignment was 'Unassigned' or 'No blast hit', or a kingdom level assignment was not available, the rank_resolution will be 'nan'."
   ]
  },
  {
   "cell_type": "code",
   "execution_count": 9,
   "metadata": {
    "collapsed": false
   },
   "outputs": [
    {
     "name": "stdout",
     "output_type": "stream",
     "text": [
      "k__Fungi;p__Ascomycota;c__Eurotiomycetes;o__Eurotiales;f__Trichocomaceae;g__Aspergillus;s__Aspergillus bombycis\n",
      "RESOLUTION: species\n",
      "\n",
      "\n",
      "k__Fungi;p__Ascomycota;c__Eurotiomycetes;o__Eurotiales;f__Trichocomaceae;g__Aspergillus\n",
      "RESOLUTION: genus\n",
      "\n",
      "\n",
      "k__Fungi;p__Ascomycota;c__Dothideomycetes;o__Pleosporales;f__Pleosporaceae\n",
      "RESOLUTION: family\n",
      "\n",
      "\n",
      "k__Fungi;p__Ascomycota;c__Eurotiomycetes;o__Eurotiales;f__Trichocomaceae;g__Aspergillus;s__Aspergillus flavus\n",
      "RESOLUTION: species\n",
      "\n",
      "\n",
      "k__Fungi;p__Ascomycota;c__Dothideomycetes;o__Pleosporales;f__Pleosporaceae;g__Lewia\n",
      "RESOLUTION: genus\n",
      "\n",
      "\n",
      "No blast hit\n",
      "RESOLUTION: nan\n",
      "\n",
      "\n"
     ]
    }
   ],
   "source": [
    "#Rank Resolutions example\n",
    "for row in exp.taxonomy_df[['tax', 'rank_resolution']].iterrows():\n",
    "    print(str(row[1][0]))\n",
    "    print(\"RESOLUTION: \" + str(row[1][1]))\n",
    "    print(\"\\n\")"
   ]
  },
  {
   "cell_type": "code",
   "execution_count": 10,
   "metadata": {
    "collapsed": false
   },
   "outputs": [
    {
     "data": {
      "text/plain": [
       "otu\n",
       "2f328e48f4252bbade0dd7f66b0d5bf1b09617dd    species\n",
       "ae0ddda08027454fdb5db77c96b94691b8274cdd      genus\n",
       "8f52abc02aed2ce6c63be04570a7e609f9cdac5f     family\n",
       "3cb3c2347cdbe128b645e432f4dcbca702e0e8e3    species\n",
       "8e9a3b9a9d91e86f21da1bd57b8ae4486c78bbe0      genus\n",
       "54c89100c4ebc5b2fceebd3bd9a857fe07dfedb5        NaN\n",
       "Name: rank_resolution, dtype: category\n",
       "Categories (7, object): [kingdom < phylum < class < order < family < genus < species]"
      ]
     },
     "execution_count": 10,
     "metadata": {},
     "output_type": "execute_result"
    }
   ],
   "source": [
    "#Note that the rank_resolution column (a pandas Series) is actually of an ordered Category type.\n",
    "#It thus support the following filtration methods\n",
    "exp.taxonomy_df.rank_resolution"
   ]
  },
  {
   "cell_type": "code",
   "execution_count": 11,
   "metadata": {
    "collapsed": false
   },
   "outputs": [
    {
     "data": {
      "text/plain": [
       "otu\n",
       "2f328e48f4252bbade0dd7f66b0d5bf1b09617dd     True\n",
       "ae0ddda08027454fdb5db77c96b94691b8274cdd    False\n",
       "8f52abc02aed2ce6c63be04570a7e609f9cdac5f    False\n",
       "3cb3c2347cdbe128b645e432f4dcbca702e0e8e3     True\n",
       "8e9a3b9a9d91e86f21da1bd57b8ae4486c78bbe0    False\n",
       "54c89100c4ebc5b2fceebd3bd9a857fe07dfedb5    False\n",
       "Name: rank_resolution, dtype: bool"
      ]
     },
     "execution_count": 11,
     "metadata": {},
     "output_type": "execute_result"
    }
   ],
   "source": [
    "#only two OTUs are assigned at the species level ( > genus )\n",
    "exp.taxonomy_df.rank_resolution > 'genus'"
   ]
  },
  {
   "cell_type": "markdown",
   "metadata": {},
   "source": [
    "## Other OmicExperiment objects functionality\n",
    "It is good practice to start the experiment with a 'raw counts' matrix.\n",
    "Since it is very easy to convert that to a relative abundance (by sample) type matrix.\n",
    "This is afforded through the to_relative_abundance method. This transforms the data such that each sample counts add up to a 100.\n",
    "\n",
    "Note that the to_relative_abundance method actually instantiates a new experiment object with the newly transformed counts dataframe.\n",
    "\n",
    "This API is provided to mimic various pandas DataFrame methods, which usually provides a new DataFrame object, and thus allows retaining older frames, as well as allow \"chaining of methods\", which is very important in interactive environments where economical typing is desirable."
   ]
  },
  {
   "cell_type": "code",
   "execution_count": 12,
   "metadata": {
    "collapsed": false
   },
   "outputs": [
    {
     "data": {
      "text/html": [
       "<div>\n",
       "<table border=\"1\" class=\"dataframe\">\n",
       "  <thead>\n",
       "    <tr style=\"text-align: right;\">\n",
       "      <th></th>\n",
       "      <th>sample0</th>\n",
       "      <th>sample1</th>\n",
       "      <th>sample2</th>\n",
       "      <th>1234</th>\n",
       "      <th>9876</th>\n",
       "    </tr>\n",
       "  </thead>\n",
       "  <tbody>\n",
       "    <tr>\n",
       "      <th>2f328e48f4252bbade0dd7f66b0d5bf1b09617dd</th>\n",
       "      <td>0</td>\n",
       "      <td>0.002175</td>\n",
       "      <td>0</td>\n",
       "      <td>0.000000</td>\n",
       "      <td>99.999557</td>\n",
       "    </tr>\n",
       "    <tr>\n",
       "      <th>ae0ddda08027454fdb5db77c96b94691b8274cdd</th>\n",
       "      <td>0</td>\n",
       "      <td>99.974982</td>\n",
       "      <td>100</td>\n",
       "      <td>0.001502</td>\n",
       "      <td>0.000443</td>\n",
       "    </tr>\n",
       "    <tr>\n",
       "      <th>8f52abc02aed2ce6c63be04570a7e609f9cdac5f</th>\n",
       "      <td>0</td>\n",
       "      <td>0.022842</td>\n",
       "      <td>0</td>\n",
       "      <td>99.998498</td>\n",
       "      <td>0.000000</td>\n",
       "    </tr>\n",
       "    <tr>\n",
       "      <th>3cb3c2347cdbe128b645e432f4dcbca702e0e8e3</th>\n",
       "      <td>0</td>\n",
       "      <td>0.000000</td>\n",
       "      <td>0</td>\n",
       "      <td>0.000000</td>\n",
       "      <td>0.000000</td>\n",
       "    </tr>\n",
       "    <tr>\n",
       "      <th>8e9a3b9a9d91e86f21da1bd57b8ae4486c78bbe0</th>\n",
       "      <td>100</td>\n",
       "      <td>0.000000</td>\n",
       "      <td>0</td>\n",
       "      <td>0.000000</td>\n",
       "      <td>0.000000</td>\n",
       "    </tr>\n",
       "  </tbody>\n",
       "</table>\n",
       "</div>"
      ],
      "text/plain": [
       "                                          sample0    sample1  sample2  \\\n",
       "2f328e48f4252bbade0dd7f66b0d5bf1b09617dd        0   0.002175        0   \n",
       "ae0ddda08027454fdb5db77c96b94691b8274cdd        0  99.974982      100   \n",
       "8f52abc02aed2ce6c63be04570a7e609f9cdac5f        0   0.022842        0   \n",
       "3cb3c2347cdbe128b645e432f4dcbca702e0e8e3        0   0.000000        0   \n",
       "8e9a3b9a9d91e86f21da1bd57b8ae4486c78bbe0      100   0.000000        0   \n",
       "\n",
       "                                               1234       9876  \n",
       "2f328e48f4252bbade0dd7f66b0d5bf1b09617dd   0.000000  99.999557  \n",
       "ae0ddda08027454fdb5db77c96b94691b8274cdd   0.001502   0.000443  \n",
       "8f52abc02aed2ce6c63be04570a7e609f9cdac5f  99.998498   0.000000  \n",
       "3cb3c2347cdbe128b645e432f4dcbca702e0e8e3   0.000000   0.000000  \n",
       "8e9a3b9a9d91e86f21da1bd57b8ae4486c78bbe0   0.000000   0.000000  "
      ]
     },
     "execution_count": 12,
     "metadata": {},
     "output_type": "execute_result"
    }
   ],
   "source": [
    "new_exp = exp.to_relative_abundance()\n",
    "new_exp.counts_df\n",
    "\n",
    "#OR, similarly:\n",
    "#to demonstrate method chaining\n",
    "exp.to_relative_abundance().counts_df"
   ]
  },
  {
   "cell_type": "code",
   "execution_count": 13,
   "metadata": {
    "collapsed": false
   },
   "outputs": [
    {
     "name": "stdout",
     "output_type": "stream",
     "text": [
      "sample0     86870\n",
      "sample1     91934\n",
      "sample2    100428\n",
      "1234       133140\n",
      "9876       225873\n",
      "dtype: float64\n"
     ]
    },
    {
     "ename": "AttributeError",
     "evalue": "type object 'Sample' has no attribute 'min_count'",
     "output_type": "error",
     "traceback": [
      "\u001b[1;31m---------------------------------------------------------------------------\u001b[0m",
      "\u001b[1;31mAttributeError\u001b[0m                            Traceback (most recent call last)",
      "\u001b[1;32m<ipython-input-13-a5ba9121b995>\u001b[0m in \u001b[0;36m<module>\u001b[1;34m()\u001b[0m\n\u001b[0;32m      2\u001b[0m \u001b[1;31m#for the MicrobiomeExperiment subclass\u001b[0m\u001b[1;33m\u001b[0m\u001b[1;33m\u001b[0m\u001b[0m\n\u001b[0;32m      3\u001b[0m \u001b[1;32mprint\u001b[0m\u001b[1;33m(\u001b[0m\u001b[0mexp\u001b[0m\u001b[1;33m.\u001b[0m\u001b[0mcounts_df\u001b[0m\u001b[1;33m.\u001b[0m\u001b[0msum\u001b[0m\u001b[1;33m(\u001b[0m\u001b[1;33m)\u001b[0m\u001b[1;33m)\u001b[0m\u001b[1;33m\u001b[0m\u001b[0m\n\u001b[1;32m----> 4\u001b[1;33m \u001b[0mrarefied_df\u001b[0m \u001b[1;33m=\u001b[0m \u001b[0mexp\u001b[0m\u001b[1;33m.\u001b[0m\u001b[0mrarefy\u001b[0m\u001b[1;33m(\u001b[0m\u001b[1;36m90000\u001b[0m\u001b[1;33m)\u001b[0m\u001b[1;33m.\u001b[0m\u001b[0mcounts_df\u001b[0m \u001b[1;31m#this will discard sample0\u001b[0m\u001b[1;33m\u001b[0m\u001b[0m\n\u001b[0m\u001b[0;32m      5\u001b[0m \u001b[0mrarefied_df\u001b[0m\u001b[1;33m\u001b[0m\u001b[0m\n\u001b[0;32m      6\u001b[0m \u001b[1;33m\u001b[0m\u001b[0m\n",
      "\u001b[1;32m/home/ahmed/dev/biomenv/src/omicexperiment/omicexperiment/experiment/microbiome.pyc\u001b[0m in \u001b[0;36mrarefy\u001b[1;34m(self, n)\u001b[0m\n\u001b[0;32m     53\u001b[0m \u001b[1;33m\u001b[0m\u001b[0m\n\u001b[0;32m     54\u001b[0m     \u001b[1;32mdef\u001b[0m \u001b[0mrarefy\u001b[0m\u001b[1;33m(\u001b[0m\u001b[0mself\u001b[0m\u001b[1;33m,\u001b[0m \u001b[0mn\u001b[0m\u001b[1;33m)\u001b[0m\u001b[1;33m:\u001b[0m\u001b[1;33m\u001b[0m\u001b[0m\n\u001b[1;32m---> 55\u001b[1;33m         \u001b[0mcuttoff_df\u001b[0m \u001b[1;33m=\u001b[0m \u001b[0mself\u001b[0m\u001b[1;33m.\u001b[0m\u001b[0mfilter\u001b[0m\u001b[1;33m(\u001b[0m\u001b[0mself\u001b[0m\u001b[1;33m.\u001b[0m\u001b[0mSample\u001b[0m\u001b[1;33m.\u001b[0m\u001b[0mmin_count\u001b[0m \u001b[1;33m==\u001b[0m \u001b[0mn\u001b[0m\u001b[1;33m)\u001b[0m\u001b[1;33m\u001b[0m\u001b[0m\n\u001b[0m\u001b[0;32m     56\u001b[0m         \u001b[1;32mreturn\u001b[0m \u001b[0mself\u001b[0m\u001b[1;33m.\u001b[0m\u001b[0m__class__\u001b[0m\u001b[1;33m(\u001b[0m \u001b[0mrarefy_dataframe\u001b[0m\u001b[1;33m(\u001b[0m\u001b[0mcuttoff_df\u001b[0m\u001b[1;33m,\u001b[0m \u001b[0mn\u001b[0m\u001b[1;33m)\u001b[0m\u001b[1;33m,\u001b[0m \u001b[0mself\u001b[0m\u001b[1;33m.\u001b[0m\u001b[0mmapping_df\u001b[0m\u001b[1;33m,\u001b[0m \u001b[0mself\u001b[0m\u001b[1;33m.\u001b[0m\u001b[0mtaxonomy_assignment_file\u001b[0m\u001b[1;33m)\u001b[0m\u001b[1;33m\u001b[0m\u001b[0m\n\u001b[0;32m     57\u001b[0m \u001b[1;33m\u001b[0m\u001b[0m\n",
      "\u001b[1;31mAttributeError\u001b[0m: type object 'Sample' has no attribute 'min_count'"
     ]
    }
   ],
   "source": [
    "#a 'rarefy' (i.e. subsampling) method is also available\n",
    "#for the MicrobiomeExperiment subclass\n",
    "print(exp.counts_df.sum())\n",
    "rarefied_df = exp.rarefy(90000).counts_df #this will discard sample0\n",
    "rarefied_df\n",
    "\n",
    "#currently, this functionality is very simplistic, and may not be robust\n",
    "#for actual analysis at this stage, but it still works as intended\n",
    "#This method will discard samples with counts lower than a cutoff value,\n",
    "#then subsample the counts of each sample to that cutoff\n",
    "#this method was shown to be of benefit for various downstream diversity analyses\n",
    "#the functionality is built into qiime and various other pipelines"
   ]
  },
  {
   "cell_type": "code",
   "execution_count": null,
   "metadata": {
    "collapsed": false
   },
   "outputs": [],
   "source": [
    "#the with_counts_df method replaces the counts_df in the experiment object\n",
    "#with the one passed as the parameter to the method\n",
    "#and!! constructs a new Experiment (this paradigm will keep repeating!)\n",
    "exp.with_counts_df(rarefied_df).counts_df\n",
    "\n",
    "#Note:\n",
    "#similarly, there is a with_mapping_df method\n",
    "#and perhaps in the future a with_taxonomy_df method"
   ]
  },
  {
   "cell_type": "markdown",
   "metadata": {},
   "source": [
    "In the next notebook/chapter, we will demonstrate the important 'filter' and 'efilter' methods of the Experiment objects."
   ]
  },
  {
   "cell_type": "markdown",
   "metadata": {},
   "source": [
    "## Missing MicrobiomeExperiment functionality\n",
    "This is a list to keep track of missing functionality.\n",
    "* Implementation of a Phylogeny/Tree dataframe "
   ]
  }
 ],
 "metadata": {
  "kernelspec": {
   "display_name": "Python 2",
   "language": "python",
   "name": "python2"
  },
  "language_info": {
   "codemirror_mode": {
    "name": "ipython",
    "version": 2
   },
   "file_extension": ".py",
   "mimetype": "text/x-python",
   "name": "python",
   "nbconvert_exporter": "python",
   "pygments_lexer": "ipython2",
   "version": "2.7.10"
  }
 },
 "nbformat": 4,
 "nbformat_minor": 0
}
